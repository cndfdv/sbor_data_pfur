{
 "cells": [
  {
   "cell_type": "markdown",
   "id": "21c11140",
   "metadata": {},
   "source": [
    "# kaggle username and api key to env params and dataset download"
   ]
  },
  {
   "cell_type": "code",
   "execution_count": 16,
   "id": "67ce53f3",
   "metadata": {},
   "outputs": [],
   "source": [
    "import os\n",
    "import json\n",
    "import pandas as pd\n",
    "import numpy as np\n",
    "import seaborn as sns\n",
    "from sklearn.preprocessing import TargetEncoder, OneHotEncoder\n",
    "from sklearn.model_selection import train_test_split\n",
    "from sklearn.ensemble import RandomForestRegressor\n",
    "from sklearn.metrics import mean_absolute_error\n",
    "from sklearn.metrics import r2_score"
   ]
  },
  {
   "cell_type": "code",
   "execution_count": 17,
   "id": "2bbcbbfb",
   "metadata": {},
   "outputs": [
    {
     "data": {
      "text/plain": [
       "'\\nwith open(\"/Users/arsknz/Downloads/kaggle.json\") as f:\\n    us_key = json.load(f)\\n\\nos.environ[\"KAGGLE_USERNAME\"] = us_key[\"username\"]\\nos.environ[\"KAGGLE_KEY\"] = us_key[\"key\"]\\n\\n!kaggle datasets download -d gabrielrichter/sales-by-products-assortment  -p ~/osnov/code/sbor_data/ --force\\n!unzip sales-by-products-assortment.zip\\n'"
      ]
     },
     "execution_count": 17,
     "metadata": {},
     "output_type": "execute_result"
    }
   ],
   "source": [
    "\"\"\"\n",
    "with open(\"/Users/arsknz/Downloads/kaggle.json\") as f:\n",
    "    us_key = json.load(f)\n",
    "\n",
    "os.environ[\"KAGGLE_USERNAME\"] = us_key[\"username\"]\n",
    "os.environ[\"KAGGLE_KEY\"] = us_key[\"key\"]\n",
    "\n",
    "!kaggle datasets download -d gabrielrichter/sales-by-products-assortment  -p ~/osnov/code/sbor_data/ --force\n",
    "!unzip sales-by-products-assortment.zip\n",
    "\"\"\""
   ]
  },
  {
   "cell_type": "code",
   "execution_count": 18,
   "id": "ce9a0138",
   "metadata": {},
   "outputs": [
    {
     "data": {
      "application/vnd.microsoft.datawrangler.viewer.v0+json": {
       "columns": [
        {
         "name": "Index",
         "rawType": "int64",
         "type": "integer"
        },
        {
         "name": "Date",
         "rawType": "object",
         "type": "string"
        },
        {
         "name": "Sales",
         "rawType": "float64",
         "type": "float"
        },
        {
         "name": "Assortment",
         "rawType": "object",
         "type": "string"
        }
       ],
       "ref": "75f568f8-3884-4af6-a5fa-fa219bbe3611",
       "rows": [
        [
         "934",
         "2018 oct 02",
         "85806.39415362924",
         "drink"
        ],
        [
         "1407",
         "2020 dec 11",
         "7167.6473930810125",
         "savory_snacks"
        ],
        [
         "500",
         "2017 mar 20",
         "23749.15483539076",
         "savory_snacks"
        ],
        [
         "200",
         "2016 aug 17",
         "43251.90405574942",
         "drink"
        ],
        [
         "1543",
         "2020 jun 17",
         "10317.09140061787",
         "candy"
        ]
       ],
       "shape": {
        "columns": 3,
        "rows": 5
       }
      },
      "text/html": [
       "<div>\n",
       "<style scoped>\n",
       "    .dataframe tbody tr th:only-of-type {\n",
       "        vertical-align: middle;\n",
       "    }\n",
       "\n",
       "    .dataframe tbody tr th {\n",
       "        vertical-align: top;\n",
       "    }\n",
       "\n",
       "    .dataframe thead th {\n",
       "        text-align: right;\n",
       "    }\n",
       "</style>\n",
       "<table border=\"1\" class=\"dataframe\">\n",
       "  <thead>\n",
       "    <tr style=\"text-align: right;\">\n",
       "      <th></th>\n",
       "      <th>Date</th>\n",
       "      <th>Sales</th>\n",
       "      <th>Assortment</th>\n",
       "    </tr>\n",
       "    <tr>\n",
       "      <th>Index</th>\n",
       "      <th></th>\n",
       "      <th></th>\n",
       "      <th></th>\n",
       "    </tr>\n",
       "  </thead>\n",
       "  <tbody>\n",
       "    <tr>\n",
       "      <th>934</th>\n",
       "      <td>2018 oct 02</td>\n",
       "      <td>85806.394154</td>\n",
       "      <td>drink</td>\n",
       "    </tr>\n",
       "    <tr>\n",
       "      <th>1407</th>\n",
       "      <td>2020 dec 11</td>\n",
       "      <td>7167.647393</td>\n",
       "      <td>savory_snacks</td>\n",
       "    </tr>\n",
       "    <tr>\n",
       "      <th>500</th>\n",
       "      <td>2017 mar 20</td>\n",
       "      <td>23749.154835</td>\n",
       "      <td>savory_snacks</td>\n",
       "    </tr>\n",
       "    <tr>\n",
       "      <th>200</th>\n",
       "      <td>2016 aug 17</td>\n",
       "      <td>43251.904056</td>\n",
       "      <td>drink</td>\n",
       "    </tr>\n",
       "    <tr>\n",
       "      <th>1543</th>\n",
       "      <td>2020 jun 17</td>\n",
       "      <td>10317.091401</td>\n",
       "      <td>candy</td>\n",
       "    </tr>\n",
       "  </tbody>\n",
       "</table>\n",
       "</div>"
      ],
      "text/plain": [
       "              Date         Sales     Assortment\n",
       "Index                                          \n",
       "934    2018 oct 02  85806.394154          drink\n",
       "1407   2020 dec 11   7167.647393  savory_snacks\n",
       "500    2017 mar 20  23749.154835  savory_snacks\n",
       "200    2016 aug 17  43251.904056          drink\n",
       "1543   2020 jun 17  10317.091401          candy"
      ]
     },
     "execution_count": 18,
     "metadata": {},
     "output_type": "execute_result"
    }
   ],
   "source": [
    "data = pd.read_csv(\"sales_assortments.csv\", index_col=\"Index\")\n",
    "data.sample(5)"
   ]
  },
  {
   "cell_type": "code",
   "execution_count": 19,
   "id": "ca124c5a",
   "metadata": {},
   "outputs": [
    {
     "data": {
      "application/vnd.microsoft.datawrangler.viewer.v0+json": {
       "columns": [
        {
         "name": "Index",
         "rawType": "int64",
         "type": "integer"
        },
        {
         "name": "Date",
         "rawType": "datetime64[ns]",
         "type": "datetime"
        },
        {
         "name": "Sales",
         "rawType": "float64",
         "type": "float"
        },
        {
         "name": "Assortment",
         "rawType": "object",
         "type": "string"
        }
       ],
       "ref": "a09320ed-36f3-4408-860e-4b20bbdff24e",
       "rows": [
        [
         "0",
         "2014-08-01 00:00:00",
         "34201.79296184109",
         "drink"
        ],
        [
         "1",
         "2014-08-02 00:00:00",
         "8404.176909485785",
         "drink"
        ],
        [
         "2",
         "2014-08-03 00:00:00",
         "62851.4362775142",
         "drink"
        ],
        [
         "3",
         "2014-08-04 00:00:00",
         "79310.69265185625",
         "drink"
        ],
        [
         "4",
         "2014-08-05 00:00:00",
         "83689.58121504697",
         "drink"
        ],
        [
         "5",
         "2014-08-06 00:00:00",
         "9728.546351703815",
         "drink"
        ],
        [
         "6",
         "2014-08-07 00:00:00",
         "172573.13290309138",
         "drink"
        ],
        [
         "7",
         "2014-08-08 00:00:00",
         "203670.3872197446",
         "drink"
        ],
        [
         "8",
         "2014-08-09 00:00:00",
         "117986.19972133572",
         "drink"
        ],
        [
         "9",
         "2014-08-10 00:00:00",
         "244377.7667555274",
         "drink"
        ],
        [
         "10",
         "2014-08-11 00:00:00",
         "173174.8735514053",
         "drink"
        ],
        [
         "11",
         "2014-08-12 00:00:00",
         "251021.74782245132",
         "drink"
        ],
        [
         "12",
         "2014-08-13 00:00:00",
         "245010.6787506058",
         "drink"
        ],
        [
         "13",
         "2014-08-14 00:00:00",
         "190107.1083122228",
         "drink"
        ],
        [
         "14",
         "2014-08-15 00:00:00",
         "36960.83981702066",
         "drink"
        ],
        [
         "15",
         "2014-08-16 00:00:00",
         "33959.59645954556",
         "drink"
        ],
        [
         "16",
         "2014-08-17 00:00:00",
         "189668.2171756219",
         "drink"
        ],
        [
         "17",
         "2014-08-18 00:00:00",
         "221575.7951143105",
         "drink"
        ],
        [
         "18",
         "2014-08-19 00:00:00",
         "272607.1701794933",
         "drink"
        ],
        [
         "19",
         "2014-08-20 00:00:00",
         "115447.3023237758",
         "drink"
        ],
        [
         "20",
         "2014-08-21 00:00:00",
         "4772.343250537873",
         "drink"
        ],
        [
         "21",
         "2014-08-22 00:00:00",
         "117552.5646068332",
         "drink"
        ],
        [
         "22",
         "2014-08-23 00:00:00",
         "144372.1706285443",
         "drink"
        ],
        [
         "23",
         "2014-08-24 00:00:00",
         "155924.93809401357",
         "drink"
        ],
        [
         "24",
         "2014-08-25 00:00:00",
         "9129.501005452108",
         "drink"
        ],
        [
         "25",
         "2014-08-26 00:00:00",
         "7256.895280179781",
         "drink"
        ],
        [
         "26",
         "2014-08-27 00:00:00",
         "12881.881173965248",
         "drink"
        ],
        [
         "27",
         "2014-08-28 00:00:00",
         "183518.1560541785",
         "drink"
        ],
        [
         "28",
         "2014-08-29 00:00:00",
         "110293.95629904245",
         "drink"
        ],
        [
         "29",
         "2014-08-30 00:00:00",
         "104019.39655380894",
         "drink"
        ],
        [
         "30",
         "2014-08-31 00:00:00",
         "8494.226170729522",
         "drink"
        ],
        [
         "31",
         "2014-10-01 00:00:00",
         "44578.47195965114",
         "drink"
        ],
        [
         "32",
         "2014-10-02 00:00:00",
         "36797.07608960498",
         "drink"
        ],
        [
         "33",
         "2014-10-03 00:00:00",
         "30928.43965227195",
         "drink"
        ],
        [
         "34",
         "2014-10-04 00:00:00",
         "13330.402401300666",
         "drink"
        ],
        [
         "35",
         "2014-10-05 00:00:00",
         "10241.200367563562",
         "drink"
        ],
        [
         "36",
         "2014-10-06 00:00:00",
         "392.79381252339135",
         "drink"
        ],
        [
         "37",
         "2014-10-07 00:00:00",
         "721.6869571744523",
         "drink"
        ],
        [
         "38",
         "2014-10-08 00:00:00",
         "55517.97238624084",
         "drink"
        ],
        [
         "39",
         "2014-10-09 00:00:00",
         "59388.57025092359",
         "drink"
        ],
        [
         "40",
         "2014-10-10 00:00:00",
         "103232.33468222224",
         "drink"
        ],
        [
         "41",
         "2014-10-11 00:00:00",
         "137845.80033352305",
         "drink"
        ],
        [
         "42",
         "2014-10-12 00:00:00",
         "181919.1802986525",
         "drink"
        ],
        [
         "43",
         "2014-10-13 00:00:00",
         "80774.51736294484",
         "drink"
        ],
        [
         "44",
         "2014-10-14 00:00:00",
         "6369.367669245018",
         "drink"
        ],
        [
         "45",
         "2014-10-15 00:00:00",
         "144210.9310642291",
         "drink"
        ],
        [
         "46",
         "2014-10-16 00:00:00",
         "256086.2586227247",
         "drink"
        ],
        [
         "47",
         "2014-10-17 00:00:00",
         "209011.78209276625",
         "drink"
        ],
        [
         "48",
         "2014-10-18 00:00:00",
         "162394.68996104656",
         "drink"
        ],
        [
         "49",
         "2014-10-19 00:00:00",
         "34243.33290700699",
         "drink"
        ]
       ],
       "shape": {
        "columns": 3,
        "rows": 1700
       }
      },
      "text/html": [
       "<div>\n",
       "<style scoped>\n",
       "    .dataframe tbody tr th:only-of-type {\n",
       "        vertical-align: middle;\n",
       "    }\n",
       "\n",
       "    .dataframe tbody tr th {\n",
       "        vertical-align: top;\n",
       "    }\n",
       "\n",
       "    .dataframe thead th {\n",
       "        text-align: right;\n",
       "    }\n",
       "</style>\n",
       "<table border=\"1\" class=\"dataframe\">\n",
       "  <thead>\n",
       "    <tr style=\"text-align: right;\">\n",
       "      <th></th>\n",
       "      <th>Date</th>\n",
       "      <th>Sales</th>\n",
       "      <th>Assortment</th>\n",
       "    </tr>\n",
       "    <tr>\n",
       "      <th>Index</th>\n",
       "      <th></th>\n",
       "      <th></th>\n",
       "      <th></th>\n",
       "    </tr>\n",
       "  </thead>\n",
       "  <tbody>\n",
       "    <tr>\n",
       "      <th>0</th>\n",
       "      <td>2014-08-01</td>\n",
       "      <td>34201.792962</td>\n",
       "      <td>drink</td>\n",
       "    </tr>\n",
       "    <tr>\n",
       "      <th>1</th>\n",
       "      <td>2014-08-02</td>\n",
       "      <td>8404.176909</td>\n",
       "      <td>drink</td>\n",
       "    </tr>\n",
       "    <tr>\n",
       "      <th>2</th>\n",
       "      <td>2014-08-03</td>\n",
       "      <td>62851.436278</td>\n",
       "      <td>drink</td>\n",
       "    </tr>\n",
       "    <tr>\n",
       "      <th>3</th>\n",
       "      <td>2014-08-04</td>\n",
       "      <td>79310.692652</td>\n",
       "      <td>drink</td>\n",
       "    </tr>\n",
       "    <tr>\n",
       "      <th>4</th>\n",
       "      <td>2014-08-05</td>\n",
       "      <td>83689.581215</td>\n",
       "      <td>drink</td>\n",
       "    </tr>\n",
       "    <tr>\n",
       "      <th>...</th>\n",
       "      <td>...</td>\n",
       "      <td>...</td>\n",
       "      <td>...</td>\n",
       "    </tr>\n",
       "    <tr>\n",
       "      <th>1695</th>\n",
       "      <td>2020-09-26</td>\n",
       "      <td>302.356902</td>\n",
       "      <td>drink</td>\n",
       "    </tr>\n",
       "    <tr>\n",
       "      <th>1696</th>\n",
       "      <td>2020-09-27</td>\n",
       "      <td>24966.162859</td>\n",
       "      <td>drink</td>\n",
       "    </tr>\n",
       "    <tr>\n",
       "      <th>1697</th>\n",
       "      <td>2020-09-28</td>\n",
       "      <td>12161.923139</td>\n",
       "      <td>drink</td>\n",
       "    </tr>\n",
       "    <tr>\n",
       "      <th>1698</th>\n",
       "      <td>2020-09-29</td>\n",
       "      <td>25187.078681</td>\n",
       "      <td>drink</td>\n",
       "    </tr>\n",
       "    <tr>\n",
       "      <th>1699</th>\n",
       "      <td>2020-09-30</td>\n",
       "      <td>9108.905206</td>\n",
       "      <td>drink</td>\n",
       "    </tr>\n",
       "  </tbody>\n",
       "</table>\n",
       "<p>1700 rows × 3 columns</p>\n",
       "</div>"
      ],
      "text/plain": [
       "            Date         Sales Assortment\n",
       "Index                                    \n",
       "0     2014-08-01  34201.792962      drink\n",
       "1     2014-08-02   8404.176909      drink\n",
       "2     2014-08-03  62851.436278      drink\n",
       "3     2014-08-04  79310.692652      drink\n",
       "4     2014-08-05  83689.581215      drink\n",
       "...          ...           ...        ...\n",
       "1695  2020-09-26    302.356902      drink\n",
       "1696  2020-09-27  24966.162859      drink\n",
       "1697  2020-09-28  12161.923139      drink\n",
       "1698  2020-09-29  25187.078681      drink\n",
       "1699  2020-09-30   9108.905206      drink\n",
       "\n",
       "[1700 rows x 3 columns]"
      ]
     },
     "execution_count": 19,
     "metadata": {},
     "output_type": "execute_result"
    }
   ],
   "source": [
    "data.Date = pd.to_datetime(data.Date, format=\"%Y %b %d\")\n",
    "data"
   ]
  },
  {
   "cell_type": "code",
   "execution_count": 20,
   "id": "214ca4fd",
   "metadata": {},
   "outputs": [],
   "source": [
    "def month_to_num(date):\n",
    "    month_str = date.strftime(\"%b\")\n",
    "    month_dict = {\n",
    "        \"Jan\": 1,\n",
    "        \"Feb\": 2,\n",
    "        \"Mar\": 3,\n",
    "        \"Apr\": 4,\n",
    "        \"May\": 5,\n",
    "        \"Jun\": 6,\n",
    "        \"Jul\": 7,\n",
    "        \"Aug\": 8,\n",
    "        \"Sep\": 9,\n",
    "        \"Oct\": 10,\n",
    "        \"Nov\": 11,\n",
    "        \"Dec\": 12,\n",
    "    }\n",
    "    return month_dict[month_str]"
   ]
  },
  {
   "cell_type": "code",
   "execution_count": 21,
   "id": "d4c3ee97",
   "metadata": {},
   "outputs": [
    {
     "data": {
      "application/vnd.microsoft.datawrangler.viewer.v0+json": {
       "columns": [
        {
         "name": "Index",
         "rawType": "int64",
         "type": "integer"
        },
        {
         "name": "Date",
         "rawType": "datetime64[ns]",
         "type": "datetime"
        },
        {
         "name": "Sales",
         "rawType": "float64",
         "type": "float"
        },
        {
         "name": "Assortment",
         "rawType": "object",
         "type": "string"
        },
        {
         "name": "Month",
         "rawType": "int64",
         "type": "integer"
        },
        {
         "name": "IsWeekend",
         "rawType": "bool",
         "type": "boolean"
        }
       ],
       "ref": "5b3a9c44-406a-49d5-9644-59b32e5455dc",
       "rows": [
        [
         "842",
         "2018-03-02 00:00:00",
         "6982.005765991977",
         "savory_snacks",
         "3",
         "False"
        ],
        [
         "839",
         "2018-06-29 00:00:00",
         "1286.2227098883272",
         "candy",
         "6",
         "False"
        ],
        [
         "1689",
         "2020-09-20 00:00:00",
         "13513.438336173444",
         "drink",
         "9",
         "True"
        ],
        [
         "1584",
         "2020-05-07 00:00:00",
         "99728.3704276027",
         "candy",
         "5",
         "False"
        ],
        [
         "1576",
         "2020-03-30 00:00:00",
         "85277.84739852445",
         "candy",
         "3",
         "False"
        ]
       ],
       "shape": {
        "columns": 5,
        "rows": 5
       }
      },
      "text/html": [
       "<div>\n",
       "<style scoped>\n",
       "    .dataframe tbody tr th:only-of-type {\n",
       "        vertical-align: middle;\n",
       "    }\n",
       "\n",
       "    .dataframe tbody tr th {\n",
       "        vertical-align: top;\n",
       "    }\n",
       "\n",
       "    .dataframe thead th {\n",
       "        text-align: right;\n",
       "    }\n",
       "</style>\n",
       "<table border=\"1\" class=\"dataframe\">\n",
       "  <thead>\n",
       "    <tr style=\"text-align: right;\">\n",
       "      <th></th>\n",
       "      <th>Date</th>\n",
       "      <th>Sales</th>\n",
       "      <th>Assortment</th>\n",
       "      <th>Month</th>\n",
       "      <th>IsWeekend</th>\n",
       "    </tr>\n",
       "    <tr>\n",
       "      <th>Index</th>\n",
       "      <th></th>\n",
       "      <th></th>\n",
       "      <th></th>\n",
       "      <th></th>\n",
       "      <th></th>\n",
       "    </tr>\n",
       "  </thead>\n",
       "  <tbody>\n",
       "    <tr>\n",
       "      <th>842</th>\n",
       "      <td>2018-03-02</td>\n",
       "      <td>6982.005766</td>\n",
       "      <td>savory_snacks</td>\n",
       "      <td>3</td>\n",
       "      <td>False</td>\n",
       "    </tr>\n",
       "    <tr>\n",
       "      <th>839</th>\n",
       "      <td>2018-06-29</td>\n",
       "      <td>1286.222710</td>\n",
       "      <td>candy</td>\n",
       "      <td>6</td>\n",
       "      <td>False</td>\n",
       "    </tr>\n",
       "    <tr>\n",
       "      <th>1689</th>\n",
       "      <td>2020-09-20</td>\n",
       "      <td>13513.438336</td>\n",
       "      <td>drink</td>\n",
       "      <td>9</td>\n",
       "      <td>True</td>\n",
       "    </tr>\n",
       "    <tr>\n",
       "      <th>1584</th>\n",
       "      <td>2020-05-07</td>\n",
       "      <td>99728.370428</td>\n",
       "      <td>candy</td>\n",
       "      <td>5</td>\n",
       "      <td>False</td>\n",
       "    </tr>\n",
       "    <tr>\n",
       "      <th>1576</th>\n",
       "      <td>2020-03-30</td>\n",
       "      <td>85277.847399</td>\n",
       "      <td>candy</td>\n",
       "      <td>3</td>\n",
       "      <td>False</td>\n",
       "    </tr>\n",
       "  </tbody>\n",
       "</table>\n",
       "</div>"
      ],
      "text/plain": [
       "            Date         Sales     Assortment  Month  IsWeekend\n",
       "Index                                                          \n",
       "842   2018-03-02   6982.005766  savory_snacks      3      False\n",
       "839   2018-06-29   1286.222710          candy      6      False\n",
       "1689  2020-09-20  13513.438336          drink      9       True\n",
       "1584  2020-05-07  99728.370428          candy      5      False\n",
       "1576  2020-03-30  85277.847399          candy      3      False"
      ]
     },
     "execution_count": 21,
     "metadata": {},
     "output_type": "execute_result"
    }
   ],
   "source": [
    "data[\"Month\"] = data[\"Date\"].apply(lambda x: month_to_num(x))\n",
    "data[\"IsWeekend\"] = data[\"Date\"].dt.dayofweek >= 5\n",
    "data.sample(5)"
   ]
  },
  {
   "cell_type": "code",
   "execution_count": 22,
   "id": "1ae178ae",
   "metadata": {},
   "outputs": [],
   "source": [
    "encoder = TargetEncoder(smooth=\"auto\")\n",
    "data[\"Assortment_encoded\"] = encoder.fit_transform(data[[\"Assortment\"]], data[\"Sales\"])"
   ]
  },
  {
   "cell_type": "code",
   "execution_count": 23,
   "id": "83d7dd81",
   "metadata": {},
   "outputs": [],
   "source": [
    "X = data[[\"Month\", \"IsWeekend\", \"Assortment_encoded\"]]\n",
    "y = data[\"Sales\"]"
   ]
  },
  {
   "cell_type": "code",
   "execution_count": 24,
   "id": "c730b950",
   "metadata": {},
   "outputs": [],
   "source": [
    "X_train, X_test, y_train, y_test = train_test_split(\n",
    "    X, y, test_size=0.2, random_state=42\n",
    ")"
   ]
  },
  {
   "cell_type": "code",
   "execution_count": 25,
   "id": "9db013f1",
   "metadata": {},
   "outputs": [],
   "source": [
    "model = RandomForestRegressor(n_estimators=50, max_depth=3, random_state=42)\n",
    "model.fit(X_train, y_train)\n",
    "y_pred = model.predict(X_test)\n",
    "mae = mean_absolute_error(y_test, y_pred)\n",
    "r2 = r2_score(y_test, y_pred)"
   ]
  },
  {
   "cell_type": "code",
   "execution_count": 26,
   "id": "1c89bbe1",
   "metadata": {},
   "outputs": [
    {
     "data": {
      "text/plain": [
       "(51079.70426370522, 0.24300993585423547)"
      ]
     },
     "execution_count": 26,
     "metadata": {},
     "output_type": "execute_result"
    }
   ],
   "source": [
    "mae, r2"
   ]
  },
  {
   "cell_type": "code",
   "execution_count": 27,
   "id": "eb54eba0",
   "metadata": {},
   "outputs": [
    {
     "data": {
      "application/vnd.microsoft.datawrangler.viewer.v0+json": {
       "columns": [
        {
         "name": "Index",
         "rawType": "int64",
         "type": "integer"
        },
        {
         "name": "Date",
         "rawType": "datetime64[ns]",
         "type": "datetime"
        },
        {
         "name": "Sales",
         "rawType": "float64",
         "type": "float"
        },
        {
         "name": "Assortment",
         "rawType": "object",
         "type": "string"
        },
        {
         "name": "Month",
         "rawType": "int64",
         "type": "integer"
        },
        {
         "name": "IsWeekend",
         "rawType": "bool",
         "type": "boolean"
        },
        {
         "name": "Assortment_encoded",
         "rawType": "float64",
         "type": "float"
        }
       ],
       "ref": "6424085f-7c2f-47cd-9df9-92d2303dd985",
       "rows": [
        [
         "0",
         "2014-08-01 00:00:00",
         "34201.79296184109",
         "drink",
         "8",
         "False",
         "90976.947311415"
        ],
        [
         "1",
         "2014-08-02 00:00:00",
         "8404.176909485785",
         "drink",
         "8",
         "True",
         "90976.947311415"
        ],
        [
         "2",
         "2014-08-03 00:00:00",
         "62851.4362775142",
         "drink",
         "8",
         "True",
         "93243.35390864391"
        ],
        [
         "3",
         "2014-08-04 00:00:00",
         "79310.69265185625",
         "drink",
         "8",
         "False",
         "93243.35390864391"
        ],
        [
         "4",
         "2014-08-05 00:00:00",
         "83689.58121504697",
         "drink",
         "8",
         "False",
         "90976.947311415"
        ],
        [
         "5",
         "2014-08-06 00:00:00",
         "9728.546351703815",
         "drink",
         "8",
         "False",
         "98162.6610388608"
        ],
        [
         "6",
         "2014-08-07 00:00:00",
         "172573.13290309138",
         "drink",
         "8",
         "False",
         "98007.82368558779"
        ],
        [
         "7",
         "2014-08-08 00:00:00",
         "203670.3872197446",
         "drink",
         "8",
         "False",
         "95322.93090056475"
        ],
        [
         "8",
         "2014-08-09 00:00:00",
         "117986.19972133572",
         "drink",
         "8",
         "True",
         "98007.82368558779"
        ],
        [
         "9",
         "2014-08-10 00:00:00",
         "244377.7667555274",
         "drink",
         "8",
         "True",
         "98007.82368558779"
        ],
        [
         "10",
         "2014-08-11 00:00:00",
         "173174.8735514053",
         "drink",
         "8",
         "False",
         "95322.93090056475"
        ],
        [
         "11",
         "2014-08-12 00:00:00",
         "251021.74782245132",
         "drink",
         "8",
         "False",
         "98007.82368558779"
        ],
        [
         "12",
         "2014-08-13 00:00:00",
         "245010.6787506058",
         "drink",
         "8",
         "False",
         "98162.6610388608"
        ],
        [
         "13",
         "2014-08-14 00:00:00",
         "190107.1083122228",
         "drink",
         "8",
         "False",
         "90976.947311415"
        ],
        [
         "14",
         "2014-08-15 00:00:00",
         "36960.83981702066",
         "drink",
         "8",
         "False",
         "93243.35390864391"
        ],
        [
         "15",
         "2014-08-16 00:00:00",
         "33959.59645954556",
         "drink",
         "8",
         "True",
         "98007.82368558779"
        ],
        [
         "16",
         "2014-08-17 00:00:00",
         "189668.2171756219",
         "drink",
         "8",
         "True",
         "95322.93090056475"
        ],
        [
         "17",
         "2014-08-18 00:00:00",
         "221575.7951143105",
         "drink",
         "8",
         "False",
         "90976.947311415"
        ],
        [
         "18",
         "2014-08-19 00:00:00",
         "272607.1701794933",
         "drink",
         "8",
         "False",
         "90976.947311415"
        ],
        [
         "19",
         "2014-08-20 00:00:00",
         "115447.3023237758",
         "drink",
         "8",
         "False",
         "93243.35390864391"
        ],
        [
         "20",
         "2014-08-21 00:00:00",
         "4772.343250537873",
         "drink",
         "8",
         "False",
         "93243.35390864391"
        ],
        [
         "21",
         "2014-08-22 00:00:00",
         "117552.5646068332",
         "drink",
         "8",
         "False",
         "90976.947311415"
        ],
        [
         "22",
         "2014-08-23 00:00:00",
         "144372.1706285443",
         "drink",
         "8",
         "True",
         "90976.947311415"
        ],
        [
         "23",
         "2014-08-24 00:00:00",
         "155924.93809401357",
         "drink",
         "8",
         "True",
         "98007.82368558779"
        ],
        [
         "24",
         "2014-08-25 00:00:00",
         "9129.501005452108",
         "drink",
         "8",
         "False",
         "98162.6610388608"
        ],
        [
         "25",
         "2014-08-26 00:00:00",
         "7256.895280179781",
         "drink",
         "8",
         "False",
         "98007.82368558779"
        ],
        [
         "26",
         "2014-08-27 00:00:00",
         "12881.881173965248",
         "drink",
         "8",
         "False",
         "93243.35390864391"
        ],
        [
         "27",
         "2014-08-28 00:00:00",
         "183518.1560541785",
         "drink",
         "8",
         "False",
         "90976.947311415"
        ],
        [
         "28",
         "2014-08-29 00:00:00",
         "110293.95629904245",
         "drink",
         "8",
         "False",
         "93243.35390864391"
        ],
        [
         "29",
         "2014-08-30 00:00:00",
         "104019.39655380894",
         "drink",
         "8",
         "True",
         "93243.35390864391"
        ],
        [
         "30",
         "2014-08-31 00:00:00",
         "8494.226170729522",
         "drink",
         "8",
         "True",
         "95322.93090056475"
        ],
        [
         "31",
         "2014-10-01 00:00:00",
         "44578.47195965114",
         "drink",
         "10",
         "False",
         "90976.947311415"
        ],
        [
         "32",
         "2014-10-02 00:00:00",
         "36797.07608960498",
         "drink",
         "10",
         "False",
         "93243.35390864391"
        ],
        [
         "33",
         "2014-10-03 00:00:00",
         "30928.43965227195",
         "drink",
         "10",
         "False",
         "95322.93090056475"
        ],
        [
         "34",
         "2014-10-04 00:00:00",
         "13330.402401300666",
         "drink",
         "10",
         "True",
         "95322.93090056475"
        ],
        [
         "35",
         "2014-10-05 00:00:00",
         "10241.200367563562",
         "drink",
         "10",
         "True",
         "93243.35390864391"
        ],
        [
         "36",
         "2014-10-06 00:00:00",
         "392.79381252339135",
         "drink",
         "10",
         "False",
         "98007.82368558779"
        ],
        [
         "37",
         "2014-10-07 00:00:00",
         "721.6869571744523",
         "drink",
         "10",
         "False",
         "93243.35390864391"
        ],
        [
         "38",
         "2014-10-08 00:00:00",
         "55517.97238624084",
         "drink",
         "10",
         "False",
         "90976.947311415"
        ],
        [
         "39",
         "2014-10-09 00:00:00",
         "59388.57025092359",
         "drink",
         "10",
         "False",
         "95322.93090056475"
        ],
        [
         "40",
         "2014-10-10 00:00:00",
         "103232.33468222224",
         "drink",
         "10",
         "False",
         "98162.6610388608"
        ],
        [
         "41",
         "2014-10-11 00:00:00",
         "137845.80033352305",
         "drink",
         "10",
         "True",
         "98162.6610388608"
        ],
        [
         "42",
         "2014-10-12 00:00:00",
         "181919.1802986525",
         "drink",
         "10",
         "True",
         "93243.35390864391"
        ],
        [
         "43",
         "2014-10-13 00:00:00",
         "80774.51736294484",
         "drink",
         "10",
         "False",
         "98162.6610388608"
        ],
        [
         "44",
         "2014-10-14 00:00:00",
         "6369.367669245018",
         "drink",
         "10",
         "False",
         "90976.947311415"
        ],
        [
         "45",
         "2014-10-15 00:00:00",
         "144210.9310642291",
         "drink",
         "10",
         "False",
         "98007.82368558779"
        ],
        [
         "46",
         "2014-10-16 00:00:00",
         "256086.2586227247",
         "drink",
         "10",
         "False",
         "90976.947311415"
        ],
        [
         "47",
         "2014-10-17 00:00:00",
         "209011.78209276625",
         "drink",
         "10",
         "False",
         "93243.35390864391"
        ],
        [
         "48",
         "2014-10-18 00:00:00",
         "162394.68996104656",
         "drink",
         "10",
         "True",
         "93243.35390864391"
        ],
        [
         "49",
         "2014-10-19 00:00:00",
         "34243.33290700699",
         "drink",
         "10",
         "True",
         "95322.93090056475"
        ]
       ],
       "shape": {
        "columns": 6,
        "rows": 1700
       }
      },
      "text/html": [
       "<div>\n",
       "<style scoped>\n",
       "    .dataframe tbody tr th:only-of-type {\n",
       "        vertical-align: middle;\n",
       "    }\n",
       "\n",
       "    .dataframe tbody tr th {\n",
       "        vertical-align: top;\n",
       "    }\n",
       "\n",
       "    .dataframe thead th {\n",
       "        text-align: right;\n",
       "    }\n",
       "</style>\n",
       "<table border=\"1\" class=\"dataframe\">\n",
       "  <thead>\n",
       "    <tr style=\"text-align: right;\">\n",
       "      <th></th>\n",
       "      <th>Date</th>\n",
       "      <th>Sales</th>\n",
       "      <th>Assortment</th>\n",
       "      <th>Month</th>\n",
       "      <th>IsWeekend</th>\n",
       "      <th>Assortment_encoded</th>\n",
       "    </tr>\n",
       "    <tr>\n",
       "      <th>Index</th>\n",
       "      <th></th>\n",
       "      <th></th>\n",
       "      <th></th>\n",
       "      <th></th>\n",
       "      <th></th>\n",
       "      <th></th>\n",
       "    </tr>\n",
       "  </thead>\n",
       "  <tbody>\n",
       "    <tr>\n",
       "      <th>0</th>\n",
       "      <td>2014-08-01</td>\n",
       "      <td>34201.792962</td>\n",
       "      <td>drink</td>\n",
       "      <td>8</td>\n",
       "      <td>False</td>\n",
       "      <td>90976.947311</td>\n",
       "    </tr>\n",
       "    <tr>\n",
       "      <th>1</th>\n",
       "      <td>2014-08-02</td>\n",
       "      <td>8404.176909</td>\n",
       "      <td>drink</td>\n",
       "      <td>8</td>\n",
       "      <td>True</td>\n",
       "      <td>90976.947311</td>\n",
       "    </tr>\n",
       "    <tr>\n",
       "      <th>2</th>\n",
       "      <td>2014-08-03</td>\n",
       "      <td>62851.436278</td>\n",
       "      <td>drink</td>\n",
       "      <td>8</td>\n",
       "      <td>True</td>\n",
       "      <td>93243.353909</td>\n",
       "    </tr>\n",
       "    <tr>\n",
       "      <th>3</th>\n",
       "      <td>2014-08-04</td>\n",
       "      <td>79310.692652</td>\n",
       "      <td>drink</td>\n",
       "      <td>8</td>\n",
       "      <td>False</td>\n",
       "      <td>93243.353909</td>\n",
       "    </tr>\n",
       "    <tr>\n",
       "      <th>4</th>\n",
       "      <td>2014-08-05</td>\n",
       "      <td>83689.581215</td>\n",
       "      <td>drink</td>\n",
       "      <td>8</td>\n",
       "      <td>False</td>\n",
       "      <td>90976.947311</td>\n",
       "    </tr>\n",
       "    <tr>\n",
       "      <th>...</th>\n",
       "      <td>...</td>\n",
       "      <td>...</td>\n",
       "      <td>...</td>\n",
       "      <td>...</td>\n",
       "      <td>...</td>\n",
       "      <td>...</td>\n",
       "    </tr>\n",
       "    <tr>\n",
       "      <th>1695</th>\n",
       "      <td>2020-09-26</td>\n",
       "      <td>302.356902</td>\n",
       "      <td>drink</td>\n",
       "      <td>9</td>\n",
       "      <td>True</td>\n",
       "      <td>90976.947311</td>\n",
       "    </tr>\n",
       "    <tr>\n",
       "      <th>1696</th>\n",
       "      <td>2020-09-27</td>\n",
       "      <td>24966.162859</td>\n",
       "      <td>drink</td>\n",
       "      <td>9</td>\n",
       "      <td>True</td>\n",
       "      <td>90976.947311</td>\n",
       "    </tr>\n",
       "    <tr>\n",
       "      <th>1697</th>\n",
       "      <td>2020-09-28</td>\n",
       "      <td>12161.923139</td>\n",
       "      <td>drink</td>\n",
       "      <td>9</td>\n",
       "      <td>False</td>\n",
       "      <td>95322.930901</td>\n",
       "    </tr>\n",
       "    <tr>\n",
       "      <th>1698</th>\n",
       "      <td>2020-09-29</td>\n",
       "      <td>25187.078681</td>\n",
       "      <td>drink</td>\n",
       "      <td>9</td>\n",
       "      <td>False</td>\n",
       "      <td>98162.661039</td>\n",
       "    </tr>\n",
       "    <tr>\n",
       "      <th>1699</th>\n",
       "      <td>2020-09-30</td>\n",
       "      <td>9108.905206</td>\n",
       "      <td>drink</td>\n",
       "      <td>9</td>\n",
       "      <td>False</td>\n",
       "      <td>98007.823686</td>\n",
       "    </tr>\n",
       "  </tbody>\n",
       "</table>\n",
       "<p>1700 rows × 6 columns</p>\n",
       "</div>"
      ],
      "text/plain": [
       "            Date         Sales Assortment  Month  IsWeekend  \\\n",
       "Index                                                         \n",
       "0     2014-08-01  34201.792962      drink      8      False   \n",
       "1     2014-08-02   8404.176909      drink      8       True   \n",
       "2     2014-08-03  62851.436278      drink      8       True   \n",
       "3     2014-08-04  79310.692652      drink      8      False   \n",
       "4     2014-08-05  83689.581215      drink      8      False   \n",
       "...          ...           ...        ...    ...        ...   \n",
       "1695  2020-09-26    302.356902      drink      9       True   \n",
       "1696  2020-09-27  24966.162859      drink      9       True   \n",
       "1697  2020-09-28  12161.923139      drink      9      False   \n",
       "1698  2020-09-29  25187.078681      drink      9      False   \n",
       "1699  2020-09-30   9108.905206      drink      9      False   \n",
       "\n",
       "       Assortment_encoded  \n",
       "Index                      \n",
       "0            90976.947311  \n",
       "1            90976.947311  \n",
       "2            93243.353909  \n",
       "3            93243.353909  \n",
       "4            90976.947311  \n",
       "...                   ...  \n",
       "1695         90976.947311  \n",
       "1696         90976.947311  \n",
       "1697         95322.930901  \n",
       "1698         98162.661039  \n",
       "1699         98007.823686  \n",
       "\n",
       "[1700 rows x 6 columns]"
      ]
     },
     "execution_count": 27,
     "metadata": {},
     "output_type": "execute_result"
    }
   ],
   "source": [
    "data"
   ]
  },
  {
   "cell_type": "code",
   "execution_count": 36,
   "id": "e99af1bd",
   "metadata": {},
   "outputs": [],
   "source": [
    "ohe = OneHotEncoder(sparse_output=False)\n",
    "assortment_encoded = ohe.fit_transform(data[[\"Assortment\"]])"
   ]
  },
  {
   "cell_type": "code",
   "execution_count": null,
   "id": "03347de7",
   "metadata": {},
   "outputs": [],
   "source": [
    "assortment_df = pd.DataFrame(\n",
    "    assortment_encoded, columns=ohe.get_feature_names_out([\"Assortment\"])\n",
    ")"
   ]
  },
  {
   "cell_type": "code",
   "execution_count": 44,
   "id": "781b4208",
   "metadata": {},
   "outputs": [],
   "source": [
    "data = pd.concat([data, assortment_df], axis=1)"
   ]
  },
  {
   "cell_type": "code",
   "execution_count": 45,
   "id": "cd0dc8a8",
   "metadata": {},
   "outputs": [
    {
     "data": {
      "application/vnd.microsoft.datawrangler.viewer.v0+json": {
       "columns": [
        {
         "name": "index",
         "rawType": "int64",
         "type": "integer"
        },
        {
         "name": "Date",
         "rawType": "datetime64[ns]",
         "type": "datetime"
        },
        {
         "name": "Sales",
         "rawType": "float64",
         "type": "float"
        },
        {
         "name": "Assortment",
         "rawType": "object",
         "type": "string"
        },
        {
         "name": "Month",
         "rawType": "int64",
         "type": "integer"
        },
        {
         "name": "IsWeekend",
         "rawType": "bool",
         "type": "boolean"
        },
        {
         "name": "Assortment_encoded",
         "rawType": "float64",
         "type": "float"
        },
        {
         "name": "Assortment_candy",
         "rawType": "float64",
         "type": "float"
        },
        {
         "name": "Assortment_drink",
         "rawType": "float64",
         "type": "float"
        },
        {
         "name": "Assortment_savory_snacks",
         "rawType": "float64",
         "type": "float"
        }
       ],
       "ref": "0052a494-19ec-4e4e-8963-58fc9bc0d650",
       "rows": [
        [
         "0",
         "2014-08-01 00:00:00",
         "34201.79296184109",
         "drink",
         "8",
         "False",
         "90976.947311415",
         "0.0",
         "1.0",
         "0.0"
        ],
        [
         "1",
         "2014-08-02 00:00:00",
         "8404.176909485785",
         "drink",
         "8",
         "True",
         "90976.947311415",
         "0.0",
         "1.0",
         "0.0"
        ],
        [
         "2",
         "2014-08-03 00:00:00",
         "62851.4362775142",
         "drink",
         "8",
         "True",
         "93243.35390864391",
         "0.0",
         "1.0",
         "0.0"
        ],
        [
         "3",
         "2014-08-04 00:00:00",
         "79310.69265185625",
         "drink",
         "8",
         "False",
         "93243.35390864391",
         "0.0",
         "1.0",
         "0.0"
        ],
        [
         "4",
         "2014-08-05 00:00:00",
         "83689.58121504697",
         "drink",
         "8",
         "False",
         "90976.947311415",
         "0.0",
         "1.0",
         "0.0"
        ],
        [
         "5",
         "2014-08-06 00:00:00",
         "9728.546351703815",
         "drink",
         "8",
         "False",
         "98162.6610388608",
         "0.0",
         "1.0",
         "0.0"
        ],
        [
         "6",
         "2014-08-07 00:00:00",
         "172573.13290309138",
         "drink",
         "8",
         "False",
         "98007.82368558779",
         "0.0",
         "1.0",
         "0.0"
        ],
        [
         "7",
         "2014-08-08 00:00:00",
         "203670.3872197446",
         "drink",
         "8",
         "False",
         "95322.93090056475",
         "0.0",
         "1.0",
         "0.0"
        ],
        [
         "8",
         "2014-08-09 00:00:00",
         "117986.19972133572",
         "drink",
         "8",
         "True",
         "98007.82368558779",
         "0.0",
         "1.0",
         "0.0"
        ],
        [
         "9",
         "2014-08-10 00:00:00",
         "244377.7667555274",
         "drink",
         "8",
         "True",
         "98007.82368558779",
         "0.0",
         "1.0",
         "0.0"
        ],
        [
         "10",
         "2014-08-11 00:00:00",
         "173174.8735514053",
         "drink",
         "8",
         "False",
         "95322.93090056475",
         "0.0",
         "1.0",
         "0.0"
        ],
        [
         "11",
         "2014-08-12 00:00:00",
         "251021.74782245132",
         "drink",
         "8",
         "False",
         "98007.82368558779",
         "0.0",
         "1.0",
         "0.0"
        ],
        [
         "12",
         "2014-08-13 00:00:00",
         "245010.6787506058",
         "drink",
         "8",
         "False",
         "98162.6610388608",
         "0.0",
         "1.0",
         "0.0"
        ],
        [
         "13",
         "2014-08-14 00:00:00",
         "190107.1083122228",
         "drink",
         "8",
         "False",
         "90976.947311415",
         "0.0",
         "1.0",
         "0.0"
        ],
        [
         "14",
         "2014-08-15 00:00:00",
         "36960.83981702066",
         "drink",
         "8",
         "False",
         "93243.35390864391",
         "0.0",
         "1.0",
         "0.0"
        ],
        [
         "15",
         "2014-08-16 00:00:00",
         "33959.59645954556",
         "drink",
         "8",
         "True",
         "98007.82368558779",
         "0.0",
         "1.0",
         "0.0"
        ],
        [
         "16",
         "2014-08-17 00:00:00",
         "189668.2171756219",
         "drink",
         "8",
         "True",
         "95322.93090056475",
         "0.0",
         "1.0",
         "0.0"
        ],
        [
         "17",
         "2014-08-18 00:00:00",
         "221575.7951143105",
         "drink",
         "8",
         "False",
         "90976.947311415",
         "0.0",
         "1.0",
         "0.0"
        ],
        [
         "18",
         "2014-08-19 00:00:00",
         "272607.1701794933",
         "drink",
         "8",
         "False",
         "90976.947311415",
         "0.0",
         "1.0",
         "0.0"
        ],
        [
         "19",
         "2014-08-20 00:00:00",
         "115447.3023237758",
         "drink",
         "8",
         "False",
         "93243.35390864391",
         "0.0",
         "1.0",
         "0.0"
        ],
        [
         "20",
         "2014-08-21 00:00:00",
         "4772.343250537873",
         "drink",
         "8",
         "False",
         "93243.35390864391",
         "0.0",
         "1.0",
         "0.0"
        ],
        [
         "21",
         "2014-08-22 00:00:00",
         "117552.5646068332",
         "drink",
         "8",
         "False",
         "90976.947311415",
         "0.0",
         "1.0",
         "0.0"
        ],
        [
         "22",
         "2014-08-23 00:00:00",
         "144372.1706285443",
         "drink",
         "8",
         "True",
         "90976.947311415",
         "0.0",
         "1.0",
         "0.0"
        ],
        [
         "23",
         "2014-08-24 00:00:00",
         "155924.93809401357",
         "drink",
         "8",
         "True",
         "98007.82368558779",
         "0.0",
         "1.0",
         "0.0"
        ],
        [
         "24",
         "2014-08-25 00:00:00",
         "9129.501005452108",
         "drink",
         "8",
         "False",
         "98162.6610388608",
         "0.0",
         "1.0",
         "0.0"
        ],
        [
         "25",
         "2014-08-26 00:00:00",
         "7256.895280179781",
         "drink",
         "8",
         "False",
         "98007.82368558779",
         "0.0",
         "1.0",
         "0.0"
        ],
        [
         "26",
         "2014-08-27 00:00:00",
         "12881.881173965248",
         "drink",
         "8",
         "False",
         "93243.35390864391",
         "0.0",
         "1.0",
         "0.0"
        ],
        [
         "27",
         "2014-08-28 00:00:00",
         "183518.1560541785",
         "drink",
         "8",
         "False",
         "90976.947311415",
         "0.0",
         "1.0",
         "0.0"
        ],
        [
         "28",
         "2014-08-29 00:00:00",
         "110293.95629904245",
         "drink",
         "8",
         "False",
         "93243.35390864391",
         "0.0",
         "1.0",
         "0.0"
        ],
        [
         "29",
         "2014-08-30 00:00:00",
         "104019.39655380894",
         "drink",
         "8",
         "True",
         "93243.35390864391",
         "0.0",
         "1.0",
         "0.0"
        ],
        [
         "30",
         "2014-08-31 00:00:00",
         "8494.226170729522",
         "drink",
         "8",
         "True",
         "95322.93090056475",
         "0.0",
         "1.0",
         "0.0"
        ],
        [
         "31",
         "2014-10-01 00:00:00",
         "44578.47195965114",
         "drink",
         "10",
         "False",
         "90976.947311415",
         "0.0",
         "1.0",
         "0.0"
        ],
        [
         "32",
         "2014-10-02 00:00:00",
         "36797.07608960498",
         "drink",
         "10",
         "False",
         "93243.35390864391",
         "0.0",
         "1.0",
         "0.0"
        ],
        [
         "33",
         "2014-10-03 00:00:00",
         "30928.43965227195",
         "drink",
         "10",
         "False",
         "95322.93090056475",
         "0.0",
         "1.0",
         "0.0"
        ],
        [
         "34",
         "2014-10-04 00:00:00",
         "13330.402401300666",
         "drink",
         "10",
         "True",
         "95322.93090056475",
         "0.0",
         "1.0",
         "0.0"
        ],
        [
         "35",
         "2014-10-05 00:00:00",
         "10241.200367563562",
         "drink",
         "10",
         "True",
         "93243.35390864391",
         "0.0",
         "1.0",
         "0.0"
        ],
        [
         "36",
         "2014-10-06 00:00:00",
         "392.79381252339135",
         "drink",
         "10",
         "False",
         "98007.82368558779",
         "0.0",
         "1.0",
         "0.0"
        ],
        [
         "37",
         "2014-10-07 00:00:00",
         "721.6869571744523",
         "drink",
         "10",
         "False",
         "93243.35390864391",
         "0.0",
         "1.0",
         "0.0"
        ],
        [
         "38",
         "2014-10-08 00:00:00",
         "55517.97238624084",
         "drink",
         "10",
         "False",
         "90976.947311415",
         "0.0",
         "1.0",
         "0.0"
        ],
        [
         "39",
         "2014-10-09 00:00:00",
         "59388.57025092359",
         "drink",
         "10",
         "False",
         "95322.93090056475",
         "0.0",
         "1.0",
         "0.0"
        ],
        [
         "40",
         "2014-10-10 00:00:00",
         "103232.33468222224",
         "drink",
         "10",
         "False",
         "98162.6610388608",
         "0.0",
         "1.0",
         "0.0"
        ],
        [
         "41",
         "2014-10-11 00:00:00",
         "137845.80033352305",
         "drink",
         "10",
         "True",
         "98162.6610388608",
         "0.0",
         "1.0",
         "0.0"
        ],
        [
         "42",
         "2014-10-12 00:00:00",
         "181919.1802986525",
         "drink",
         "10",
         "True",
         "93243.35390864391",
         "0.0",
         "1.0",
         "0.0"
        ],
        [
         "43",
         "2014-10-13 00:00:00",
         "80774.51736294484",
         "drink",
         "10",
         "False",
         "98162.6610388608",
         "0.0",
         "1.0",
         "0.0"
        ],
        [
         "44",
         "2014-10-14 00:00:00",
         "6369.367669245018",
         "drink",
         "10",
         "False",
         "90976.947311415",
         "0.0",
         "1.0",
         "0.0"
        ],
        [
         "45",
         "2014-10-15 00:00:00",
         "144210.9310642291",
         "drink",
         "10",
         "False",
         "98007.82368558779",
         "0.0",
         "1.0",
         "0.0"
        ],
        [
         "46",
         "2014-10-16 00:00:00",
         "256086.2586227247",
         "drink",
         "10",
         "False",
         "90976.947311415",
         "0.0",
         "1.0",
         "0.0"
        ],
        [
         "47",
         "2014-10-17 00:00:00",
         "209011.78209276625",
         "drink",
         "10",
         "False",
         "93243.35390864391",
         "0.0",
         "1.0",
         "0.0"
        ],
        [
         "48",
         "2014-10-18 00:00:00",
         "162394.68996104656",
         "drink",
         "10",
         "True",
         "93243.35390864391",
         "0.0",
         "1.0",
         "0.0"
        ],
        [
         "49",
         "2014-10-19 00:00:00",
         "34243.33290700699",
         "drink",
         "10",
         "True",
         "95322.93090056475",
         "0.0",
         "1.0",
         "0.0"
        ]
       ],
       "shape": {
        "columns": 9,
        "rows": 1700
       }
      },
      "text/html": [
       "<div>\n",
       "<style scoped>\n",
       "    .dataframe tbody tr th:only-of-type {\n",
       "        vertical-align: middle;\n",
       "    }\n",
       "\n",
       "    .dataframe tbody tr th {\n",
       "        vertical-align: top;\n",
       "    }\n",
       "\n",
       "    .dataframe thead th {\n",
       "        text-align: right;\n",
       "    }\n",
       "</style>\n",
       "<table border=\"1\" class=\"dataframe\">\n",
       "  <thead>\n",
       "    <tr style=\"text-align: right;\">\n",
       "      <th></th>\n",
       "      <th>Date</th>\n",
       "      <th>Sales</th>\n",
       "      <th>Assortment</th>\n",
       "      <th>Month</th>\n",
       "      <th>IsWeekend</th>\n",
       "      <th>Assortment_encoded</th>\n",
       "      <th>Assortment_candy</th>\n",
       "      <th>Assortment_drink</th>\n",
       "      <th>Assortment_savory_snacks</th>\n",
       "    </tr>\n",
       "  </thead>\n",
       "  <tbody>\n",
       "    <tr>\n",
       "      <th>0</th>\n",
       "      <td>2014-08-01</td>\n",
       "      <td>34201.792962</td>\n",
       "      <td>drink</td>\n",
       "      <td>8</td>\n",
       "      <td>False</td>\n",
       "      <td>90976.947311</td>\n",
       "      <td>0.0</td>\n",
       "      <td>1.0</td>\n",
       "      <td>0.0</td>\n",
       "    </tr>\n",
       "    <tr>\n",
       "      <th>1</th>\n",
       "      <td>2014-08-02</td>\n",
       "      <td>8404.176909</td>\n",
       "      <td>drink</td>\n",
       "      <td>8</td>\n",
       "      <td>True</td>\n",
       "      <td>90976.947311</td>\n",
       "      <td>0.0</td>\n",
       "      <td>1.0</td>\n",
       "      <td>0.0</td>\n",
       "    </tr>\n",
       "    <tr>\n",
       "      <th>2</th>\n",
       "      <td>2014-08-03</td>\n",
       "      <td>62851.436278</td>\n",
       "      <td>drink</td>\n",
       "      <td>8</td>\n",
       "      <td>True</td>\n",
       "      <td>93243.353909</td>\n",
       "      <td>0.0</td>\n",
       "      <td>1.0</td>\n",
       "      <td>0.0</td>\n",
       "    </tr>\n",
       "    <tr>\n",
       "      <th>3</th>\n",
       "      <td>2014-08-04</td>\n",
       "      <td>79310.692652</td>\n",
       "      <td>drink</td>\n",
       "      <td>8</td>\n",
       "      <td>False</td>\n",
       "      <td>93243.353909</td>\n",
       "      <td>0.0</td>\n",
       "      <td>1.0</td>\n",
       "      <td>0.0</td>\n",
       "    </tr>\n",
       "    <tr>\n",
       "      <th>4</th>\n",
       "      <td>2014-08-05</td>\n",
       "      <td>83689.581215</td>\n",
       "      <td>drink</td>\n",
       "      <td>8</td>\n",
       "      <td>False</td>\n",
       "      <td>90976.947311</td>\n",
       "      <td>0.0</td>\n",
       "      <td>1.0</td>\n",
       "      <td>0.0</td>\n",
       "    </tr>\n",
       "    <tr>\n",
       "      <th>...</th>\n",
       "      <td>...</td>\n",
       "      <td>...</td>\n",
       "      <td>...</td>\n",
       "      <td>...</td>\n",
       "      <td>...</td>\n",
       "      <td>...</td>\n",
       "      <td>...</td>\n",
       "      <td>...</td>\n",
       "      <td>...</td>\n",
       "    </tr>\n",
       "    <tr>\n",
       "      <th>1695</th>\n",
       "      <td>2020-09-26</td>\n",
       "      <td>302.356902</td>\n",
       "      <td>drink</td>\n",
       "      <td>9</td>\n",
       "      <td>True</td>\n",
       "      <td>90976.947311</td>\n",
       "      <td>0.0</td>\n",
       "      <td>1.0</td>\n",
       "      <td>0.0</td>\n",
       "    </tr>\n",
       "    <tr>\n",
       "      <th>1696</th>\n",
       "      <td>2020-09-27</td>\n",
       "      <td>24966.162859</td>\n",
       "      <td>drink</td>\n",
       "      <td>9</td>\n",
       "      <td>True</td>\n",
       "      <td>90976.947311</td>\n",
       "      <td>0.0</td>\n",
       "      <td>1.0</td>\n",
       "      <td>0.0</td>\n",
       "    </tr>\n",
       "    <tr>\n",
       "      <th>1697</th>\n",
       "      <td>2020-09-28</td>\n",
       "      <td>12161.923139</td>\n",
       "      <td>drink</td>\n",
       "      <td>9</td>\n",
       "      <td>False</td>\n",
       "      <td>95322.930901</td>\n",
       "      <td>0.0</td>\n",
       "      <td>1.0</td>\n",
       "      <td>0.0</td>\n",
       "    </tr>\n",
       "    <tr>\n",
       "      <th>1698</th>\n",
       "      <td>2020-09-29</td>\n",
       "      <td>25187.078681</td>\n",
       "      <td>drink</td>\n",
       "      <td>9</td>\n",
       "      <td>False</td>\n",
       "      <td>98162.661039</td>\n",
       "      <td>0.0</td>\n",
       "      <td>1.0</td>\n",
       "      <td>0.0</td>\n",
       "    </tr>\n",
       "    <tr>\n",
       "      <th>1699</th>\n",
       "      <td>2020-09-30</td>\n",
       "      <td>9108.905206</td>\n",
       "      <td>drink</td>\n",
       "      <td>9</td>\n",
       "      <td>False</td>\n",
       "      <td>98007.823686</td>\n",
       "      <td>0.0</td>\n",
       "      <td>1.0</td>\n",
       "      <td>0.0</td>\n",
       "    </tr>\n",
       "  </tbody>\n",
       "</table>\n",
       "<p>1700 rows × 9 columns</p>\n",
       "</div>"
      ],
      "text/plain": [
       "           Date         Sales Assortment  Month  IsWeekend  \\\n",
       "0    2014-08-01  34201.792962      drink      8      False   \n",
       "1    2014-08-02   8404.176909      drink      8       True   \n",
       "2    2014-08-03  62851.436278      drink      8       True   \n",
       "3    2014-08-04  79310.692652      drink      8      False   \n",
       "4    2014-08-05  83689.581215      drink      8      False   \n",
       "...         ...           ...        ...    ...        ...   \n",
       "1695 2020-09-26    302.356902      drink      9       True   \n",
       "1696 2020-09-27  24966.162859      drink      9       True   \n",
       "1697 2020-09-28  12161.923139      drink      9      False   \n",
       "1698 2020-09-29  25187.078681      drink      9      False   \n",
       "1699 2020-09-30   9108.905206      drink      9      False   \n",
       "\n",
       "      Assortment_encoded  Assortment_candy  Assortment_drink  \\\n",
       "0           90976.947311               0.0               1.0   \n",
       "1           90976.947311               0.0               1.0   \n",
       "2           93243.353909               0.0               1.0   \n",
       "3           93243.353909               0.0               1.0   \n",
       "4           90976.947311               0.0               1.0   \n",
       "...                  ...               ...               ...   \n",
       "1695        90976.947311               0.0               1.0   \n",
       "1696        90976.947311               0.0               1.0   \n",
       "1697        95322.930901               0.0               1.0   \n",
       "1698        98162.661039               0.0               1.0   \n",
       "1699        98007.823686               0.0               1.0   \n",
       "\n",
       "      Assortment_savory_snacks  \n",
       "0                          0.0  \n",
       "1                          0.0  \n",
       "2                          0.0  \n",
       "3                          0.0  \n",
       "4                          0.0  \n",
       "...                        ...  \n",
       "1695                       0.0  \n",
       "1696                       0.0  \n",
       "1697                       0.0  \n",
       "1698                       0.0  \n",
       "1699                       0.0  \n",
       "\n",
       "[1700 rows x 9 columns]"
      ]
     },
     "execution_count": 45,
     "metadata": {},
     "output_type": "execute_result"
    }
   ],
   "source": [
    "data"
   ]
  },
  {
   "cell_type": "code",
   "execution_count": 46,
   "id": "569f2e00",
   "metadata": {},
   "outputs": [],
   "source": [
    "X2 = data[[\"Month\", \"IsWeekend\"] + list(assortment_df.columns)]\n",
    "y2 = data[\"Sales\"]"
   ]
  },
  {
   "cell_type": "code",
   "execution_count": 47,
   "id": "72218b9f",
   "metadata": {},
   "outputs": [],
   "source": [
    "X2_train, X2_test, y2_train, y2_test = train_test_split(\n",
    "    X2, y2, test_size=0.2, random_state=42\n",
    ")"
   ]
  },
  {
   "cell_type": "code",
   "execution_count": 48,
   "id": "24b501a9",
   "metadata": {},
   "outputs": [],
   "source": [
    "model2 = RandomForestRegressor(n_estimators=50, max_depth=3, random_state=42)\n",
    "model2.fit(X2_train, y2_train)\n",
    "y2_pred = model2.predict(X2_test)\n",
    "mae2 = mean_absolute_error(y2_test, y2_pred)\n",
    "r2_2 = r2_score(y2_test, y2_pred)"
   ]
  },
  {
   "cell_type": "code",
   "execution_count": 49,
   "id": "6083eda7",
   "metadata": {},
   "outputs": [
    {
     "data": {
      "text/plain": [
       "(51126.56642101711, 0.23878285866101523)"
      ]
     },
     "execution_count": 49,
     "metadata": {},
     "output_type": "execute_result"
    }
   ],
   "source": [
    "mae2, r2_2"
   ]
  },
  {
   "cell_type": "markdown",
   "id": "d6ca3347",
   "metadata": {},
   "source": [
    "### Encoding не очень влияет, а вообще по хорошему конечно строить пайплайн для lstm"
   ]
  }
 ],
 "metadata": {
  "kernelspec": {
   "display_name": "main_nn",
   "language": "python",
   "name": "python3"
  },
  "language_info": {
   "codemirror_mode": {
    "name": "ipython",
    "version": 3
   },
   "file_extension": ".py",
   "mimetype": "text/x-python",
   "name": "python",
   "nbconvert_exporter": "python",
   "pygments_lexer": "ipython3",
   "version": "3.10.18"
  }
 },
 "nbformat": 4,
 "nbformat_minor": 5
}
