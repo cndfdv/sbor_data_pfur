{
 "cells": [
  {
   "cell_type": "markdown",
   "id": "7fd847c2",
   "metadata": {},
   "source": [
    "# Lib imports"
   ]
  },
  {
   "cell_type": "code",
   "execution_count": 1,
   "id": "98c035b8",
   "metadata": {},
   "outputs": [
    {
     "name": "stderr",
     "output_type": "stream",
     "text": [
      "/Users/arsknz/miniforge3/envs/main_nn/lib/python3.10/site-packages/tqdm/auto.py:21: TqdmWarning: IProgress not found. Please update jupyter and ipywidgets. See https://ipywidgets.readthedocs.io/en/stable/user_install.html\n",
      "  from .autonotebook import tqdm as notebook_tqdm\n"
     ]
    }
   ],
   "source": [
    "import os\n",
    "import json\n",
    "import datetime\n",
    "import numpy as np\n",
    "import pandas as pd\n",
    "import matplotlib.pyplot as plt\n",
    "import kagglehub\n",
    "from sklearn.model_selection import train_test_split, GridSearchCV\n",
    "from category_encoders import TargetEncoder\n",
    "import seaborn as sns\n"
   ]
  },
  {
   "cell_type": "markdown",
   "id": "450aa740",
   "metadata": {},
   "source": [
    "# Models imports"
   ]
  },
  {
   "cell_type": "code",
   "execution_count": 2,
   "id": "aaece2c3",
   "metadata": {},
   "outputs": [],
   "source": [
    "# models\n",
    "from sklearn.linear_model import LinearRegression, Ridge, Lasso, ElasticNet\n",
    "from sklearn.ensemble import RandomForestRegressor, AdaBoostRegressor\n",
    "from sklearn.svm import SVR\n",
    "from sklearn.tree import DecisionTreeRegressor\n",
    "from sklearn.neighbors import KNeighborsRegressor\n",
    "from sklearn.gaussian_process import GaussianProcessRegressor\n",
    "from sklearn.metrics import mean_squared_error, r2_score"
   ]
  },
  {
   "cell_type": "markdown",
   "id": "21c11140",
   "metadata": {},
   "source": [
    "# kaggle username and api key to env params and dataset download"
   ]
  },
  {
   "cell_type": "code",
   "execution_count": 3,
   "id": "2bbcbbfb",
   "metadata": {},
   "outputs": [
    {
     "data": {
      "text/plain": [
       "'\\n!kaggle datasets download -d gabrielrichter/sales-by-products-assortment  -p ~/osnov/code/sbor_data/ --force\\n!unzip sales-by-products-assortment.zip\\n'"
      ]
     },
     "execution_count": 3,
     "metadata": {},
     "output_type": "execute_result"
    }
   ],
   "source": [
    "\"\"\"\n",
    "with open(\"/Users/arsknz/Downloads/kaggle.json\") as f:\n",
    "    us_key = json.load(f)\n",
    "\n",
    "os.environ[\"KAGGLE_USERNAME\"] = us_key[\"username\"]\n",
    "os.environ[\"KAGGLE_KEY\"] = us_key[\"key\"]\n",
    "\"\"\"\n",
    "\"\"\"\n",
    "!kaggle datasets download -d gabrielrichter/sales-by-products-assortment  -p ~/osnov/code/sbor_data/ --force\n",
    "!unzip sales-by-products-assortment.zip\n",
    "\"\"\""
   ]
  },
  {
   "cell_type": "markdown",
   "id": "45fbb984",
   "metadata": {},
   "source": [
    "# Dataset to Dataframe and some analize"
   ]
  },
  {
   "cell_type": "code",
   "execution_count": 4,
   "id": "dc095e15",
   "metadata": {},
   "outputs": [
    {
     "data": {
      "application/vnd.microsoft.datawrangler.viewer.v0+json": {
       "columns": [
        {
         "name": "index",
         "rawType": "int64",
         "type": "integer"
        },
        {
         "name": "Index",
         "rawType": "int64",
         "type": "integer"
        },
        {
         "name": "Date",
         "rawType": "object",
         "type": "string"
        },
        {
         "name": "Sales",
         "rawType": "float64",
         "type": "float"
        },
        {
         "name": "Assortment",
         "rawType": "object",
         "type": "string"
        }
       ],
       "ref": "544ebf47-aceb-46dd-bcce-747df57d2e8e",
       "rows": [
        [
         "0",
         "0",
         "2014 aug 01",
         "34201.79296184109",
         "drink"
        ],
        [
         "1",
         "1",
         "2014 aug 02",
         "8404.176909485785",
         "drink"
        ],
        [
         "2",
         "2",
         "2014 aug 03",
         "62851.4362775142",
         "drink"
        ],
        [
         "3",
         "3",
         "2014 aug 04",
         "79310.69265185625",
         "drink"
        ],
        [
         "4",
         "4",
         "2014 aug 05",
         "83689.58121504697",
         "drink"
        ]
       ],
       "shape": {
        "columns": 4,
        "rows": 5
       }
      },
      "text/html": [
       "<div>\n",
       "<style scoped>\n",
       "    .dataframe tbody tr th:only-of-type {\n",
       "        vertical-align: middle;\n",
       "    }\n",
       "\n",
       "    .dataframe tbody tr th {\n",
       "        vertical-align: top;\n",
       "    }\n",
       "\n",
       "    .dataframe thead th {\n",
       "        text-align: right;\n",
       "    }\n",
       "</style>\n",
       "<table border=\"1\" class=\"dataframe\">\n",
       "  <thead>\n",
       "    <tr style=\"text-align: right;\">\n",
       "      <th></th>\n",
       "      <th>Index</th>\n",
       "      <th>Date</th>\n",
       "      <th>Sales</th>\n",
       "      <th>Assortment</th>\n",
       "    </tr>\n",
       "  </thead>\n",
       "  <tbody>\n",
       "    <tr>\n",
       "      <th>0</th>\n",
       "      <td>0</td>\n",
       "      <td>2014 aug 01</td>\n",
       "      <td>34201.792962</td>\n",
       "      <td>drink</td>\n",
       "    </tr>\n",
       "    <tr>\n",
       "      <th>1</th>\n",
       "      <td>1</td>\n",
       "      <td>2014 aug 02</td>\n",
       "      <td>8404.176909</td>\n",
       "      <td>drink</td>\n",
       "    </tr>\n",
       "    <tr>\n",
       "      <th>2</th>\n",
       "      <td>2</td>\n",
       "      <td>2014 aug 03</td>\n",
       "      <td>62851.436278</td>\n",
       "      <td>drink</td>\n",
       "    </tr>\n",
       "    <tr>\n",
       "      <th>3</th>\n",
       "      <td>3</td>\n",
       "      <td>2014 aug 04</td>\n",
       "      <td>79310.692652</td>\n",
       "      <td>drink</td>\n",
       "    </tr>\n",
       "    <tr>\n",
       "      <th>4</th>\n",
       "      <td>4</td>\n",
       "      <td>2014 aug 05</td>\n",
       "      <td>83689.581215</td>\n",
       "      <td>drink</td>\n",
       "    </tr>\n",
       "  </tbody>\n",
       "</table>\n",
       "</div>"
      ],
      "text/plain": [
       "   Index         Date         Sales Assortment\n",
       "0      0  2014 aug 01  34201.792962      drink\n",
       "1      1  2014 aug 02   8404.176909      drink\n",
       "2      2  2014 aug 03  62851.436278      drink\n",
       "3      3  2014 aug 04  79310.692652      drink\n",
       "4      4  2014 aug 05  83689.581215      drink"
      ]
     },
     "execution_count": 4,
     "metadata": {},
     "output_type": "execute_result"
    }
   ],
   "source": [
    "df = pd.read_csv(\"sales_assortments.csv\")\n",
    "df.head()"
   ]
  },
  {
   "cell_type": "code",
   "execution_count": 5,
   "id": "95e3ea88",
   "metadata": {},
   "outputs": [
    {
     "name": "stdout",
     "output_type": "stream",
     "text": [
      "<class 'pandas.core.frame.DataFrame'>\n",
      "RangeIndex: 1700 entries, 0 to 1699\n",
      "Data columns (total 4 columns):\n",
      " #   Column      Non-Null Count  Dtype  \n",
      "---  ------      --------------  -----  \n",
      " 0   Index       1700 non-null   int64  \n",
      " 1   Date        1700 non-null   object \n",
      " 2   Sales       1700 non-null   float64\n",
      " 3   Assortment  1700 non-null   object \n",
      "dtypes: float64(1), int64(1), object(2)\n",
      "memory usage: 53.2+ KB\n"
     ]
    }
   ],
   "source": [
    "df.info()"
   ]
  },
  {
   "cell_type": "code",
   "execution_count": 6,
   "id": "3d6dd062",
   "metadata": {},
   "outputs": [
    {
     "data": {
      "application/vnd.microsoft.datawrangler.viewer.v0+json": {
       "columns": [
        {
         "name": "index",
         "rawType": "object",
         "type": "string"
        },
        {
         "name": "Index",
         "rawType": "float64",
         "type": "float"
        },
        {
         "name": "Sales",
         "rawType": "float64",
         "type": "float"
        }
       ],
       "ref": "557524c4-203c-4146-b9ee-96c25c17f354",
       "rows": [
        [
         "count",
         "1700.0",
         "1700.0"
        ],
        [
         "mean",
         "849.5",
         "62781.191201135895"
        ],
        [
         "std",
         "490.8920451586072",
         "92768.74151804169"
        ],
        [
         "min",
         "0.0",
         "102.35268164873872"
        ],
        [
         "25%",
         "424.75",
         "5187.490254882331"
        ],
        [
         "50%",
         "849.5",
         "19941.19146196473"
        ],
        [
         "75%",
         "1274.25",
         "81454.99826980897"
        ],
        [
         "max",
         "1699.0",
         "522164.5200624807"
        ]
       ],
       "shape": {
        "columns": 2,
        "rows": 8
       }
      },
      "text/html": [
       "<div>\n",
       "<style scoped>\n",
       "    .dataframe tbody tr th:only-of-type {\n",
       "        vertical-align: middle;\n",
       "    }\n",
       "\n",
       "    .dataframe tbody tr th {\n",
       "        vertical-align: top;\n",
       "    }\n",
       "\n",
       "    .dataframe thead th {\n",
       "        text-align: right;\n",
       "    }\n",
       "</style>\n",
       "<table border=\"1\" class=\"dataframe\">\n",
       "  <thead>\n",
       "    <tr style=\"text-align: right;\">\n",
       "      <th></th>\n",
       "      <th>Index</th>\n",
       "      <th>Sales</th>\n",
       "    </tr>\n",
       "  </thead>\n",
       "  <tbody>\n",
       "    <tr>\n",
       "      <th>count</th>\n",
       "      <td>1700.000000</td>\n",
       "      <td>1700.000000</td>\n",
       "    </tr>\n",
       "    <tr>\n",
       "      <th>mean</th>\n",
       "      <td>849.500000</td>\n",
       "      <td>62781.191201</td>\n",
       "    </tr>\n",
       "    <tr>\n",
       "      <th>std</th>\n",
       "      <td>490.892045</td>\n",
       "      <td>92768.741518</td>\n",
       "    </tr>\n",
       "    <tr>\n",
       "      <th>min</th>\n",
       "      <td>0.000000</td>\n",
       "      <td>102.352682</td>\n",
       "    </tr>\n",
       "    <tr>\n",
       "      <th>25%</th>\n",
       "      <td>424.750000</td>\n",
       "      <td>5187.490255</td>\n",
       "    </tr>\n",
       "    <tr>\n",
       "      <th>50%</th>\n",
       "      <td>849.500000</td>\n",
       "      <td>19941.191462</td>\n",
       "    </tr>\n",
       "    <tr>\n",
       "      <th>75%</th>\n",
       "      <td>1274.250000</td>\n",
       "      <td>81454.998270</td>\n",
       "    </tr>\n",
       "    <tr>\n",
       "      <th>max</th>\n",
       "      <td>1699.000000</td>\n",
       "      <td>522164.520062</td>\n",
       "    </tr>\n",
       "  </tbody>\n",
       "</table>\n",
       "</div>"
      ],
      "text/plain": [
       "             Index          Sales\n",
       "count  1700.000000    1700.000000\n",
       "mean    849.500000   62781.191201\n",
       "std     490.892045   92768.741518\n",
       "min       0.000000     102.352682\n",
       "25%     424.750000    5187.490255\n",
       "50%     849.500000   19941.191462\n",
       "75%    1274.250000   81454.998270\n",
       "max    1699.000000  522164.520062"
      ]
     },
     "execution_count": 6,
     "metadata": {},
     "output_type": "execute_result"
    }
   ],
   "source": [
    "df.describe()"
   ]
  },
  {
   "cell_type": "markdown",
   "id": "f1cded3c",
   "metadata": {},
   "source": [
    "# Prepair to train models"
   ]
  },
  {
   "cell_type": "code",
   "execution_count": 7,
   "id": "d927bab3",
   "metadata": {},
   "outputs": [],
   "source": [
    "def part_of_year(data):\n",
    "    data = data.split()\n",
    "    return data[1]"
   ]
  },
  {
   "cell_type": "code",
   "execution_count": 8,
   "id": "570fc0c4",
   "metadata": {},
   "outputs": [
    {
     "data": {
      "application/vnd.microsoft.datawrangler.viewer.v0+json": {
       "columns": [
        {
         "name": "index",
         "rawType": "int64",
         "type": "integer"
        },
        {
         "name": "Sales",
         "rawType": "float64",
         "type": "float"
        },
        {
         "name": "Assortment",
         "rawType": "object",
         "type": "string"
        },
        {
         "name": "Season",
         "rawType": "object",
         "type": "string"
        }
       ],
       "ref": "0d455862-62ac-4d55-acf6-3d21d2aef768",
       "rows": [
        [
         "0",
         "34201.79296184109",
         "drink",
         "aug"
        ],
        [
         "1",
         "8404.176909485785",
         "drink",
         "aug"
        ],
        [
         "2",
         "62851.4362775142",
         "drink",
         "aug"
        ],
        [
         "3",
         "79310.69265185625",
         "drink",
         "aug"
        ],
        [
         "4",
         "83689.58121504697",
         "drink",
         "aug"
        ],
        [
         "5",
         "9728.546351703815",
         "drink",
         "aug"
        ],
        [
         "6",
         "172573.13290309138",
         "drink",
         "aug"
        ],
        [
         "7",
         "203670.3872197446",
         "drink",
         "aug"
        ],
        [
         "8",
         "117986.19972133572",
         "drink",
         "aug"
        ],
        [
         "9",
         "244377.7667555274",
         "drink",
         "aug"
        ],
        [
         "10",
         "173174.8735514053",
         "drink",
         "aug"
        ],
        [
         "11",
         "251021.74782245132",
         "drink",
         "aug"
        ],
        [
         "12",
         "245010.6787506058",
         "drink",
         "aug"
        ],
        [
         "13",
         "190107.1083122228",
         "drink",
         "aug"
        ],
        [
         "14",
         "36960.83981702066",
         "drink",
         "aug"
        ],
        [
         "15",
         "33959.59645954556",
         "drink",
         "aug"
        ],
        [
         "16",
         "189668.2171756219",
         "drink",
         "aug"
        ],
        [
         "17",
         "221575.7951143105",
         "drink",
         "aug"
        ],
        [
         "18",
         "272607.1701794933",
         "drink",
         "aug"
        ],
        [
         "19",
         "115447.3023237758",
         "drink",
         "aug"
        ],
        [
         "20",
         "4772.343250537873",
         "drink",
         "aug"
        ],
        [
         "21",
         "117552.5646068332",
         "drink",
         "aug"
        ],
        [
         "22",
         "144372.1706285443",
         "drink",
         "aug"
        ],
        [
         "23",
         "155924.93809401357",
         "drink",
         "aug"
        ],
        [
         "24",
         "9129.501005452108",
         "drink",
         "aug"
        ],
        [
         "25",
         "7256.895280179781",
         "drink",
         "aug"
        ],
        [
         "26",
         "12881.881173965248",
         "drink",
         "aug"
        ],
        [
         "27",
         "183518.1560541785",
         "drink",
         "aug"
        ],
        [
         "28",
         "110293.95629904245",
         "drink",
         "aug"
        ],
        [
         "29",
         "104019.39655380894",
         "drink",
         "aug"
        ],
        [
         "30",
         "8494.226170729522",
         "drink",
         "aug"
        ],
        [
         "31",
         "44578.47195965114",
         "drink",
         "oct"
        ],
        [
         "32",
         "36797.07608960498",
         "drink",
         "oct"
        ],
        [
         "33",
         "30928.43965227195",
         "drink",
         "oct"
        ],
        [
         "34",
         "13330.402401300666",
         "drink",
         "oct"
        ],
        [
         "35",
         "10241.200367563562",
         "drink",
         "oct"
        ],
        [
         "36",
         "392.79381252339135",
         "drink",
         "oct"
        ],
        [
         "37",
         "721.6869571744523",
         "drink",
         "oct"
        ],
        [
         "38",
         "55517.97238624084",
         "drink",
         "oct"
        ],
        [
         "39",
         "59388.57025092359",
         "drink",
         "oct"
        ],
        [
         "40",
         "103232.33468222224",
         "drink",
         "oct"
        ],
        [
         "41",
         "137845.80033352305",
         "drink",
         "oct"
        ],
        [
         "42",
         "181919.1802986525",
         "drink",
         "oct"
        ],
        [
         "43",
         "80774.51736294484",
         "drink",
         "oct"
        ],
        [
         "44",
         "6369.367669245018",
         "drink",
         "oct"
        ],
        [
         "45",
         "144210.9310642291",
         "drink",
         "oct"
        ],
        [
         "46",
         "256086.2586227247",
         "drink",
         "oct"
        ],
        [
         "47",
         "209011.78209276625",
         "drink",
         "oct"
        ],
        [
         "48",
         "162394.68996104656",
         "drink",
         "oct"
        ],
        [
         "49",
         "34243.33290700699",
         "drink",
         "oct"
        ]
       ],
       "shape": {
        "columns": 3,
        "rows": 1700
       }
      },
      "text/html": [
       "<div>\n",
       "<style scoped>\n",
       "    .dataframe tbody tr th:only-of-type {\n",
       "        vertical-align: middle;\n",
       "    }\n",
       "\n",
       "    .dataframe tbody tr th {\n",
       "        vertical-align: top;\n",
       "    }\n",
       "\n",
       "    .dataframe thead th {\n",
       "        text-align: right;\n",
       "    }\n",
       "</style>\n",
       "<table border=\"1\" class=\"dataframe\">\n",
       "  <thead>\n",
       "    <tr style=\"text-align: right;\">\n",
       "      <th></th>\n",
       "      <th>Sales</th>\n",
       "      <th>Assortment</th>\n",
       "      <th>Season</th>\n",
       "    </tr>\n",
       "  </thead>\n",
       "  <tbody>\n",
       "    <tr>\n",
       "      <th>0</th>\n",
       "      <td>34201.792962</td>\n",
       "      <td>drink</td>\n",
       "      <td>aug</td>\n",
       "    </tr>\n",
       "    <tr>\n",
       "      <th>1</th>\n",
       "      <td>8404.176909</td>\n",
       "      <td>drink</td>\n",
       "      <td>aug</td>\n",
       "    </tr>\n",
       "    <tr>\n",
       "      <th>2</th>\n",
       "      <td>62851.436278</td>\n",
       "      <td>drink</td>\n",
       "      <td>aug</td>\n",
       "    </tr>\n",
       "    <tr>\n",
       "      <th>3</th>\n",
       "      <td>79310.692652</td>\n",
       "      <td>drink</td>\n",
       "      <td>aug</td>\n",
       "    </tr>\n",
       "    <tr>\n",
       "      <th>4</th>\n",
       "      <td>83689.581215</td>\n",
       "      <td>drink</td>\n",
       "      <td>aug</td>\n",
       "    </tr>\n",
       "    <tr>\n",
       "      <th>...</th>\n",
       "      <td>...</td>\n",
       "      <td>...</td>\n",
       "      <td>...</td>\n",
       "    </tr>\n",
       "    <tr>\n",
       "      <th>1695</th>\n",
       "      <td>302.356902</td>\n",
       "      <td>drink</td>\n",
       "      <td>sep</td>\n",
       "    </tr>\n",
       "    <tr>\n",
       "      <th>1696</th>\n",
       "      <td>24966.162859</td>\n",
       "      <td>drink</td>\n",
       "      <td>sep</td>\n",
       "    </tr>\n",
       "    <tr>\n",
       "      <th>1697</th>\n",
       "      <td>12161.923139</td>\n",
       "      <td>drink</td>\n",
       "      <td>sep</td>\n",
       "    </tr>\n",
       "    <tr>\n",
       "      <th>1698</th>\n",
       "      <td>25187.078681</td>\n",
       "      <td>drink</td>\n",
       "      <td>sep</td>\n",
       "    </tr>\n",
       "    <tr>\n",
       "      <th>1699</th>\n",
       "      <td>9108.905206</td>\n",
       "      <td>drink</td>\n",
       "      <td>sep</td>\n",
       "    </tr>\n",
       "  </tbody>\n",
       "</table>\n",
       "<p>1700 rows × 3 columns</p>\n",
       "</div>"
      ],
      "text/plain": [
       "             Sales Assortment Season\n",
       "0     34201.792962      drink    aug\n",
       "1      8404.176909      drink    aug\n",
       "2     62851.436278      drink    aug\n",
       "3     79310.692652      drink    aug\n",
       "4     83689.581215      drink    aug\n",
       "...            ...        ...    ...\n",
       "1695    302.356902      drink    sep\n",
       "1696  24966.162859      drink    sep\n",
       "1697  12161.923139      drink    sep\n",
       "1698  25187.078681      drink    sep\n",
       "1699   9108.905206      drink    sep\n",
       "\n",
       "[1700 rows x 3 columns]"
      ]
     },
     "execution_count": 8,
     "metadata": {},
     "output_type": "execute_result"
    }
   ],
   "source": [
    "df[\"Season\"] = df[\"Date\"].apply(part_of_year)\n",
    "df.drop(columns=[\"Date\", \"Index\"], inplace=True)\n",
    "df"
   ]
  },
  {
   "cell_type": "code",
   "execution_count": 9,
   "id": "1eab9f3b",
   "metadata": {},
   "outputs": [
    {
     "data": {
      "application/vnd.microsoft.datawrangler.viewer.v0+json": {
       "columns": [
        {
         "name": "index",
         "rawType": "int64",
         "type": "integer"
        },
        {
         "name": "Assortment",
         "rawType": "float64",
         "type": "float"
        },
        {
         "name": "Season",
         "rawType": "float64",
         "type": "float"
        }
       ],
       "ref": "29601362-adab-4cec-953b-76ce87dd7877",
       "rows": [
        [
         "0",
         "95243.82792755413",
         "118747.35121634601"
        ],
        [
         "1",
         "95243.82792755413",
         "118747.35121634601"
        ],
        [
         "2",
         "95243.82792755413",
         "118747.35121634601"
        ],
        [
         "3",
         "95243.82792755413",
         "118747.35121634601"
        ],
        [
         "4",
         "95243.82792755413",
         "118747.35121634601"
        ],
        [
         "5",
         "95243.82792755413",
         "118747.35121634601"
        ],
        [
         "6",
         "95243.82792755413",
         "118747.35121634601"
        ],
        [
         "7",
         "95243.82792755413",
         "118747.35121634601"
        ],
        [
         "8",
         "95243.82792755413",
         "118747.35121634601"
        ],
        [
         "9",
         "95243.82792755413",
         "118747.35121634601"
        ],
        [
         "10",
         "95243.82792755413",
         "118747.35121634601"
        ],
        [
         "11",
         "95243.82792755413",
         "118747.35121634601"
        ],
        [
         "12",
         "95243.82792755413",
         "118747.35121634601"
        ],
        [
         "13",
         "95243.82792755413",
         "118747.35121634601"
        ],
        [
         "14",
         "95243.82792755413",
         "118747.35121634601"
        ],
        [
         "15",
         "95243.82792755413",
         "118747.35121634601"
        ],
        [
         "16",
         "95243.82792755413",
         "118747.35121634601"
        ],
        [
         "17",
         "95243.82792755413",
         "118747.35121634601"
        ],
        [
         "18",
         "95243.82792755413",
         "118747.35121634601"
        ],
        [
         "19",
         "95243.82792755413",
         "118747.35121634601"
        ],
        [
         "20",
         "95243.82792755413",
         "118747.35121634601"
        ],
        [
         "21",
         "95243.82792755413",
         "118747.35121634601"
        ],
        [
         "22",
         "95243.82792755413",
         "118747.35121634601"
        ],
        [
         "23",
         "95243.82792755413",
         "118747.35121634601"
        ],
        [
         "24",
         "95243.82792755413",
         "118747.35121634601"
        ],
        [
         "25",
         "95243.82792755413",
         "118747.35121634601"
        ],
        [
         "26",
         "95243.82792755413",
         "118747.35121634601"
        ],
        [
         "27",
         "95243.82792755413",
         "118747.35121634601"
        ],
        [
         "28",
         "95243.82792755413",
         "118747.35121634601"
        ],
        [
         "29",
         "95243.82792755413",
         "118747.35121634601"
        ],
        [
         "30",
         "95243.82792755413",
         "118747.35121634601"
        ],
        [
         "31",
         "95243.82792755413",
         "64812.386715363995"
        ],
        [
         "32",
         "95243.82792755413",
         "64812.386715363995"
        ],
        [
         "33",
         "95243.82792755413",
         "64812.386715363995"
        ],
        [
         "34",
         "95243.82792755413",
         "64812.386715363995"
        ],
        [
         "35",
         "95243.82792755413",
         "64812.386715363995"
        ],
        [
         "36",
         "95243.82792755413",
         "64812.386715363995"
        ],
        [
         "37",
         "95243.82792755413",
         "64812.386715363995"
        ],
        [
         "38",
         "95243.82792755413",
         "64812.386715363995"
        ],
        [
         "39",
         "95243.82792755413",
         "64812.386715363995"
        ],
        [
         "40",
         "95243.82792755413",
         "64812.386715363995"
        ],
        [
         "41",
         "95243.82792755413",
         "64812.386715363995"
        ],
        [
         "42",
         "95243.82792755413",
         "64812.386715363995"
        ],
        [
         "43",
         "95243.82792755413",
         "64812.386715363995"
        ],
        [
         "44",
         "95243.82792755413",
         "64812.386715363995"
        ],
        [
         "45",
         "95243.82792755413",
         "64812.386715363995"
        ],
        [
         "46",
         "95243.82792755413",
         "64812.386715363995"
        ],
        [
         "47",
         "95243.82792755413",
         "64812.386715363995"
        ],
        [
         "48",
         "95243.82792755413",
         "64812.386715363995"
        ],
        [
         "49",
         "95243.82792755413",
         "64812.386715363995"
        ]
       ],
       "shape": {
        "columns": 2,
        "rows": 1700
       }
      },
      "text/html": [
       "<div>\n",
       "<style scoped>\n",
       "    .dataframe tbody tr th:only-of-type {\n",
       "        vertical-align: middle;\n",
       "    }\n",
       "\n",
       "    .dataframe tbody tr th {\n",
       "        vertical-align: top;\n",
       "    }\n",
       "\n",
       "    .dataframe thead th {\n",
       "        text-align: right;\n",
       "    }\n",
       "</style>\n",
       "<table border=\"1\" class=\"dataframe\">\n",
       "  <thead>\n",
       "    <tr style=\"text-align: right;\">\n",
       "      <th></th>\n",
       "      <th>Assortment</th>\n",
       "      <th>Season</th>\n",
       "    </tr>\n",
       "  </thead>\n",
       "  <tbody>\n",
       "    <tr>\n",
       "      <th>0</th>\n",
       "      <td>95243.827928</td>\n",
       "      <td>118747.351216</td>\n",
       "    </tr>\n",
       "    <tr>\n",
       "      <th>1</th>\n",
       "      <td>95243.827928</td>\n",
       "      <td>118747.351216</td>\n",
       "    </tr>\n",
       "    <tr>\n",
       "      <th>2</th>\n",
       "      <td>95243.827928</td>\n",
       "      <td>118747.351216</td>\n",
       "    </tr>\n",
       "    <tr>\n",
       "      <th>3</th>\n",
       "      <td>95243.827928</td>\n",
       "      <td>118747.351216</td>\n",
       "    </tr>\n",
       "    <tr>\n",
       "      <th>4</th>\n",
       "      <td>95243.827928</td>\n",
       "      <td>118747.351216</td>\n",
       "    </tr>\n",
       "    <tr>\n",
       "      <th>...</th>\n",
       "      <td>...</td>\n",
       "      <td>...</td>\n",
       "    </tr>\n",
       "    <tr>\n",
       "      <th>1695</th>\n",
       "      <td>95243.827928</td>\n",
       "      <td>81195.252952</td>\n",
       "    </tr>\n",
       "    <tr>\n",
       "      <th>1696</th>\n",
       "      <td>95243.827928</td>\n",
       "      <td>81195.252952</td>\n",
       "    </tr>\n",
       "    <tr>\n",
       "      <th>1697</th>\n",
       "      <td>95243.827928</td>\n",
       "      <td>81195.252952</td>\n",
       "    </tr>\n",
       "    <tr>\n",
       "      <th>1698</th>\n",
       "      <td>95243.827928</td>\n",
       "      <td>81195.252952</td>\n",
       "    </tr>\n",
       "    <tr>\n",
       "      <th>1699</th>\n",
       "      <td>95243.827928</td>\n",
       "      <td>81195.252952</td>\n",
       "    </tr>\n",
       "  </tbody>\n",
       "</table>\n",
       "<p>1700 rows × 2 columns</p>\n",
       "</div>"
      ],
      "text/plain": [
       "        Assortment         Season\n",
       "0     95243.827928  118747.351216\n",
       "1     95243.827928  118747.351216\n",
       "2     95243.827928  118747.351216\n",
       "3     95243.827928  118747.351216\n",
       "4     95243.827928  118747.351216\n",
       "...            ...            ...\n",
       "1695  95243.827928   81195.252952\n",
       "1696  95243.827928   81195.252952\n",
       "1697  95243.827928   81195.252952\n",
       "1698  95243.827928   81195.252952\n",
       "1699  95243.827928   81195.252952\n",
       "\n",
       "[1700 rows x 2 columns]"
      ]
     },
     "execution_count": 9,
     "metadata": {},
     "output_type": "execute_result"
    }
   ],
   "source": [
    "X_cat = df[[\"Assortment\", \"Season\"]]\n",
    "y = df[\"Sales\"].squeeze()\n",
    "\n",
    "te = TargetEncoder(cols=[\"Assortment\", \"Season\"])\n",
    "X_cat_encoded = te.fit_transform(X_cat, y)\n",
    "X_cat_encoded"
   ]
  },
  {
   "cell_type": "code",
   "execution_count": 10,
   "id": "75a93b44",
   "metadata": {},
   "outputs": [
    {
     "data": {
      "image/png": "[encoded data removed]",
      "text/plain": [
       "<Figure size 1600x900 with 1 Axes>"
      ]
     },
     "metadata": {},
     "output_type": "display_data"
    }
   ],
   "source": [
    "plt.figure(figsize=(16, 9))\n",
    "plt.scatter(X_cat_encoded[\"Season\"], X_cat_encoded[\"Assortment\"])\n",
    "plt.show()"
   ]
  },
  {
   "cell_type": "code",
   "execution_count": null,
   "id": "acafe930",
   "metadata": {},
   "outputs": [],
   "source": [
    "X_train, X_test, y_train, y_test = train_test_split(X_cat_encoded, y, test_size=0.2)"
   ]
  },
  {
   "cell_type": "markdown",
   "id": "e5be503d",
   "metadata": {},
   "source": [
    "# Train models w GridSearchCV"
   ]
  },
  {
   "cell_type": "code",
   "execution_count": null,
   "id": "e7f29483",
   "metadata": {},
   "outputs": [],
   "source": [
    "results = {}\n",
    "\n",
    "\n",
    "def train_model(name, model, param_grid):\n",
    "    \"\"\"Обучение модели с GridSearchCV и сохранение результатов\"\"\"\n",
    "    search = GridSearchCV(model, param_grid, cv=3, scoring=\"r2\", n_jobs=-1)\n",
    "    search.fit(X_train, y_train)\n",
    "\n",
    "    best_model = search.best_estimator_\n",
    "    y_pred = best_model.predict(X_test)\n",
    "\n",
    "    results[name] = {\n",
    "        \"best_params\": search.best_params_,\n",
    "        \"r2\": r2_score(y_test, y_pred),\n",
    "        \"rmse\": mean_squared_error(y_test, y_pred) ** 0.5,\n",
    "        \"y_pred\": y_pred,\n",
    "    }\n",
    "\n",
    "\n",
    "models = {\n",
    "    \"Linear\": LinearRegression(),\n",
    "    \"Ridge\": Ridge(),\n",
    "    \"Lasso\": Lasso(),\n",
    "    \"ElasticNet\": ElasticNet(),\n",
    "    \"AdaBoost\": AdaBoostRegressor(),\n",
    "    \"RandomForest\": RandomForestRegressor(),\n",
    "    \"DecisionTree\": DecisionTreeRegressor(),\n",
    "}\n",
    "\n",
    "\n",
    "param_grids = {\n",
    "    \"Linear\": {},\n",
    "    \"Ridge\": {\"alpha\": [0.01, 0.1, 1, 10]},\n",
    "    \"Lasso\": {\"alpha\": [0.01, 0.1, 1, 10]},\n",
    "    \"ElasticNet\": {\"alpha\": [0.01, 0.1, 1, 10], \"l1_ratio\": [0.0, 0.5, 1.0]},\n",
    "    \"AdaBoost\": {\"n_estimators\": [50, 100, 200], \"learning_rate\": [0.01, 0.1, 1]},\n",
    "    \"RandomForest\": {\"n_estimators\": [100, 200], \"max_depth\": [3, 5, 10, None]},\n",
    "    \"DecisionTree\": {\n",
    "        \"max_depth\": [3, 5, 10, None],\n",
    "        \"criterion\": [\"squared_error\", \"friedman_mse\"],\n",
    "    },\n",
    "}\n"
   ]
  },
  {
   "cell_type": "code",
   "execution_count": 14,
   "id": "5d43666e",
   "metadata": {},
   "outputs": [
    {
     "name": "stdout",
     "output_type": "stream",
     "text": [
      "Training Linear...\n",
      "Training Ridge...\n",
      "Training Lasso...\n",
      "Training ElasticNet...\n",
      "Training AdaBoost...\n"
     ]
    },
    {
     "name": "stderr",
     "output_type": "stream",
     "text": [
      "/Users/arsknz/miniforge3/envs/main_nn/lib/python3.10/site-packages/sklearn/linear_model/_coordinate_descent.py:695: ConvergenceWarning: Objective did not converge. You might want to increase the number of iterations, check the scale of the features or consider increasing regularisation. Duality gap: 3.364e+12, tolerance: 7.866e+08\n",
      "Linear regression models with a zero l1 penalization strength are more efficiently fitted using one of the solvers implemented in sklearn.linear_model.Ridge/RidgeCV instead.\n",
      "  model = cd_fast.enet_coordinate_descent(\n",
      "/Users/arsknz/miniforge3/envs/main_nn/lib/python3.10/site-packages/sklearn/linear_model/_coordinate_descent.py:695: ConvergenceWarning: Objective did not converge. You might want to increase the number of iterations, check the scale of the features or consider increasing regularisation. Duality gap: 3.363e+12, tolerance: 7.896e+08\n",
      "Linear regression models with a zero l1 penalization strength are more efficiently fitted using one of the solvers implemented in sklearn.linear_model.Ridge/RidgeCV instead.\n",
      "  model = cd_fast.enet_coordinate_descent(\n",
      "/Users/arsknz/miniforge3/envs/main_nn/lib/python3.10/site-packages/sklearn/linear_model/_coordinate_descent.py:695: ConvergenceWarning: Objective did not converge. You might want to increase the number of iterations, check the scale of the features or consider increasing regularisation. Duality gap: 3.364e+12, tolerance: 7.866e+08\n",
      "Linear regression models with a zero l1 penalization strength are more efficiently fitted using one of the solvers implemented in sklearn.linear_model.Ridge/RidgeCV instead.\n",
      "  model = cd_fast.enet_coordinate_descent(\n",
      "/Users/arsknz/miniforge3/envs/main_nn/lib/python3.10/site-packages/sklearn/linear_model/_coordinate_descent.py:695: ConvergenceWarning: Objective did not converge. You might want to increase the number of iterations, check the scale of the features or consider increasing regularisation. Duality gap: 3.363e+12, tolerance: 7.896e+08\n",
      "Linear regression models with a zero l1 penalization strength are more efficiently fitted using one of the solvers implemented in sklearn.linear_model.Ridge/RidgeCV instead.\n",
      "  model = cd_fast.enet_coordinate_descent(\n",
      "/Users/arsknz/miniforge3/envs/main_nn/lib/python3.10/site-packages/sklearn/linear_model/_coordinate_descent.py:695: ConvergenceWarning: Objective did not converge. You might want to increase the number of iterations, check the scale of the features or consider increasing regularisation. Duality gap: 3.172e+12, tolerance: 7.334e+08\n",
      "Linear regression models with a zero l1 penalization strength are more efficiently fitted using one of the solvers implemented in sklearn.linear_model.Ridge/RidgeCV instead.\n",
      "  model = cd_fast.enet_coordinate_descent(\n",
      "/Users/arsknz/miniforge3/envs/main_nn/lib/python3.10/site-packages/sklearn/linear_model/_coordinate_descent.py:695: ConvergenceWarning: Objective did not converge. You might want to increase the number of iterations, check the scale of the features or consider increasing regularisation. Duality gap: 3.172e+12, tolerance: 7.334e+08\n",
      "Linear regression models with a zero l1 penalization strength are more efficiently fitted using one of the solvers implemented in sklearn.linear_model.Ridge/RidgeCV instead.\n",
      "  model = cd_fast.enet_coordinate_descent(\n",
      "/Users/arsknz/miniforge3/envs/main_nn/lib/python3.10/site-packages/sklearn/linear_model/_coordinate_descent.py:695: ConvergenceWarning: Objective did not converge. You might want to increase the number of iterations, check the scale of the features or consider increasing regularisation. Duality gap: 3.172e+12, tolerance: 7.334e+08\n",
      "Linear regression models with a zero l1 penalization strength are more efficiently fitted using one of the solvers implemented in sklearn.linear_model.Ridge/RidgeCV instead.\n",
      "  model = cd_fast.enet_coordinate_descent(\n",
      "/Users/arsknz/miniforge3/envs/main_nn/lib/python3.10/site-packages/sklearn/linear_model/_coordinate_descent.py:695: ConvergenceWarning: Objective did not converge. You might want to increase the number of iterations, check the scale of the features or consider increasing regularisation. Duality gap: 3.363e+12, tolerance: 7.896e+08\n",
      "Linear regression models with a zero l1 penalization strength are more efficiently fitted using one of the solvers implemented in sklearn.linear_model.Ridge/RidgeCV instead.\n",
      "  model = cd_fast.enet_coordinate_descent(\n",
      "/Users/arsknz/miniforge3/envs/main_nn/lib/python3.10/site-packages/sklearn/linear_model/_coordinate_descent.py:695: ConvergenceWarning: Objective did not converge. You might want to increase the number of iterations, check the scale of the features or consider increasing regularisation. Duality gap: 3.364e+12, tolerance: 7.866e+08\n",
      "Linear regression models with a zero l1 penalization strength are more efficiently fitted using one of the solvers implemented in sklearn.linear_model.Ridge/RidgeCV instead.\n",
      "  model = cd_fast.enet_coordinate_descent(\n",
      "/Users/arsknz/miniforge3/envs/main_nn/lib/python3.10/site-packages/sklearn/linear_model/_coordinate_descent.py:695: ConvergenceWarning: Objective did not converge. You might want to increase the number of iterations, check the scale of the features or consider increasing regularisation. Duality gap: 3.363e+12, tolerance: 7.896e+08\n",
      "Linear regression models with a zero l1 penalization strength are more efficiently fitted using one of the solvers implemented in sklearn.linear_model.Ridge/RidgeCV instead.\n",
      "  model = cd_fast.enet_coordinate_descent(\n",
      "/Users/arsknz/miniforge3/envs/main_nn/lib/python3.10/site-packages/sklearn/linear_model/_coordinate_descent.py:695: ConvergenceWarning: Objective did not converge. You might want to increase the number of iterations, check the scale of the features or consider increasing regularisation. Duality gap: 3.364e+12, tolerance: 7.866e+08\n",
      "Linear regression models with a zero l1 penalization strength are more efficiently fitted using one of the solvers implemented in sklearn.linear_model.Ridge/RidgeCV instead.\n",
      "  model = cd_fast.enet_coordinate_descent(\n",
      "/Users/arsknz/miniforge3/envs/main_nn/lib/python3.10/site-packages/sklearn/linear_model/_coordinate_descent.py:695: ConvergenceWarning: Objective did not converge. You might want to increase the number of iterations, check the scale of the features or consider increasing regularisation. Duality gap: 3.172e+12, tolerance: 7.334e+08\n",
      "Linear regression models with a zero l1 penalization strength are more efficiently fitted using one of the solvers implemented in sklearn.linear_model.Ridge/RidgeCV instead.\n",
      "  model = cd_fast.enet_coordinate_descent(\n"
     ]
    },
    {
     "name": "stdout",
     "output_type": "stream",
     "text": [
      "Training RandomForest...\n",
      "Training DecisionTree...\n"
     ]
    }
   ],
   "source": [
    "for name, model in models.items():\n",
    "    print(f\"Training {name}...\")\n",
    "    train_model(name, model, param_grids[name])"
   ]
  },
  {
   "cell_type": "markdown",
   "id": "e4d1be50",
   "metadata": {},
   "source": [
    "# R2 metric result"
   ]
  },
  {
   "cell_type": "code",
   "execution_count": 15,
   "id": "0db993af",
   "metadata": {},
   "outputs": [
    {
     "name": "stdout",
     "output_type": "stream",
     "text": [
      "Linear: 0.14996527744033772\n",
      "Ridge: 0.14996527744027877\n",
      "Lasso: 0.14996527745257338\n",
      "ElasticNet: 0.14996527745257338\n",
      "AdaBoost: 0.24012232725322336\n",
      "RandomForest: 0.25545307354172986\n",
      "DecisionTree: 0.25537344865139966\n"
     ]
    }
   ],
   "source": [
    "for key in results.keys():\n",
    "    print(f\"{key}: {results[key]['r2']}\")"
   ]
  }
 ],
 "metadata": {
  "kernelspec": {
   "display_name": "main_nn",
   "language": "python",
   "name": "python3"
  },
  "language_info": {
   "codemirror_mode": {
    "name": "ipython",
    "version": 3
   },
   "file_extension": ".py",
   "mimetype": "text/x-python",
   "name": "python",
   "nbconvert_exporter": "python",
   "pygments_lexer": "ipython3",
   "version": "3.10.17"
  }
 },
 "nbformat": 4,
 "nbformat_minor": 5
}
