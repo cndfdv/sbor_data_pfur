{
 "cells": [
  {
   "cell_type": "markdown",
   "id": "21c11140",
   "metadata": {},
   "source": [
    "# kaggle username and api key to env params and dataset download"
   ]
  },
  {
   "cell_type": "code",
   "execution_count": 1,
   "id": "67ce53f3",
   "metadata": {},
   "outputs": [],
   "source": [
    "import os\n",
    "import json"
   ]
  },
  {
   "cell_type": "code",
   "execution_count": null,
   "id": "2bbcbbfb",
   "metadata": {},
   "outputs": [],
   "source": [
    "with open(\"/Users/arsknz/Downloads/kaggle.json\") as f:\n",
    "    us_key = json.load(f)\n",
    "\n",
    "os.environ[\"KAGGLE_USERNAME\"] = us_key[\"username\"]\n",
    "os.environ[\"KAGGLE_KEY\"] = us_key[\"key\"]\n",
    "\n",
    "!kaggle datasets download -d gabrielrichter/sales-by-products-assortment  -p ~/osnov/code/sbor_data/ --force\n",
    "!unzip sales-by-products-assortment.zip\n"
   ]
  }
 ],
 "metadata": {
  "kernelspec": {
   "display_name": "main_nn",
   "language": "python",
   "name": "python3"
  },
  "language_info": {
   "codemirror_mode": {
    "name": "ipython",
    "version": 3
   },
   "file_extension": ".py",
   "mimetype": "text/x-python",
   "name": "python",
   "nbconvert_exporter": "python",
   "pygments_lexer": "ipython3",
   "version": "3.10.18"
  }
 },
 "nbformat": 4,
 "nbformat_minor": 5
}
